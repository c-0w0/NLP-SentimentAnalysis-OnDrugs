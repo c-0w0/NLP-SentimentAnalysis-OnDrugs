{
 "cells": [
  {
   "cell_type": "markdown",
   "id": "8cc7f1ce",
   "metadata": {},
   "source": [
    "Dataset https://www.kaggle.com/datasets/mohamedabdelwahabali/drugreview/data"
   ]
  },
  {
   "cell_type": "code",
   "execution_count": 1,
   "id": "315d429f",
   "metadata": {},
   "outputs": [],
   "source": [
    "# Standard import\n",
    "import os\n",
    "from IPython.display import display\n",
    "import re\n",
    "\n",
    "# 3rd party import\n",
    "# - Casual\n",
    "import pandas as pd\n",
    "import numpy as np\n",
    "# - Plotting\n",
    "import matplotlib.pyplot as plt\n",
    "import seaborn as sns\n",
    "from sklearn.metrics import confusion_matrix, f1_score, accuracy_score, precision_score, recall_score, classification_report\n",
    "# - NLP\n",
    "import contractions\n",
    "import spacy\n",
    "import nltk\n",
    "from nltk.corpus import stopwords\n",
    "from tensorflow.keras.preprocessing.text import Tokenizer\n",
    "from keras.preprocessing.sequence import pad_sequences\n",
    "from sklearn.feature_extraction.text import TfidfVectorizer\n",
    "# - Modeling\n",
    "from sklearn.naive_bayes import MultinomialNB\n",
    "from sklearn.linear_model import LogisticRegression\n",
    "from sklearn.svm import LinearSVC\n",
    "from sklearn.ensemble import RandomForestClassifier\n",
    "from xgboost import XGBClassifier\n",
    "from keras.models import Sequential\n",
    "import tensorflow as tf \n",
    "from tensorflow.keras.layers import Embedding, LSTM, Dense, Dropout, Bidirectional, Input, SimpleRNN\n",
    "from keras.callbacks import EarlyStopping\n",
    "from keras.optimizers import Adam\n",
    "from sklearn.utils.class_weight import compute_class_weight\n",
    "\n",
    "# Local import"
   ]
  },
  {
   "cell_type": "code",
   "execution_count": 2,
   "id": "b97a62bd",
   "metadata": {},
   "outputs": [],
   "source": [
    "train_df = pd.read_csv('../data/drug_review_train.csv')\n",
    "val_df = pd.read_csv('../data/drug_review_validation.csv')\n",
    "test_df = pd.read_csv('../data/drug_review_test.csv')"
   ]
  },
  {
   "cell_type": "markdown",
   "id": "8e2d1a26",
   "metadata": {},
   "source": [
    "# EDA"
   ]
  },
  {
   "cell_type": "code",
   "execution_count": 3,
   "id": "8b221437",
   "metadata": {},
   "outputs": [
    {
     "data": {
      "text/html": [
       "<div>\n",
       "<style scoped>\n",
       "    .dataframe tbody tr th:only-of-type {\n",
       "        vertical-align: middle;\n",
       "    }\n",
       "\n",
       "    .dataframe tbody tr th {\n",
       "        vertical-align: top;\n",
       "    }\n",
       "\n",
       "    .dataframe thead th {\n",
       "        text-align: right;\n",
       "    }\n",
       "</style>\n",
       "<table border=\"1\" class=\"dataframe\">\n",
       "  <thead>\n",
       "    <tr style=\"text-align: right;\">\n",
       "      <th></th>\n",
       "      <th>Unnamed: 0</th>\n",
       "      <th>patient_id</th>\n",
       "      <th>drugName</th>\n",
       "      <th>condition</th>\n",
       "      <th>review</th>\n",
       "      <th>rating</th>\n",
       "      <th>date</th>\n",
       "      <th>usefulCount</th>\n",
       "      <th>review_length</th>\n",
       "    </tr>\n",
       "  </thead>\n",
       "  <tbody>\n",
       "    <tr>\n",
       "      <th>0</th>\n",
       "      <td>0</td>\n",
       "      <td>89879</td>\n",
       "      <td>Cyclosporine</td>\n",
       "      <td>keratoconjunctivitis sicca</td>\n",
       "      <td>\"i have used restasis for about a year now and...</td>\n",
       "      <td>2</td>\n",
       "      <td>20 Apr 13</td>\n",
       "      <td>69</td>\n",
       "      <td>147</td>\n",
       "    </tr>\n",
       "    <tr>\n",
       "      <th>1</th>\n",
       "      <td>1</td>\n",
       "      <td>143975</td>\n",
       "      <td>Etonogestrel</td>\n",
       "      <td>birth control</td>\n",
       "      <td>\"my experience has been somewhat mixed. i have...</td>\n",
       "      <td>7</td>\n",
       "      <td>7 Aug 16</td>\n",
       "      <td>4</td>\n",
       "      <td>136</td>\n",
       "    </tr>\n",
       "    <tr>\n",
       "      <th>2</th>\n",
       "      <td>2</td>\n",
       "      <td>106473</td>\n",
       "      <td>Implanon</td>\n",
       "      <td>birth control</td>\n",
       "      <td>\"this is my second implanon would not recommen...</td>\n",
       "      <td>1</td>\n",
       "      <td>11 May 16</td>\n",
       "      <td>6</td>\n",
       "      <td>140</td>\n",
       "    </tr>\n",
       "    <tr>\n",
       "      <th>3</th>\n",
       "      <td>3</td>\n",
       "      <td>184526</td>\n",
       "      <td>Hydroxyzine</td>\n",
       "      <td>anxiety</td>\n",
       "      <td>\"i recommend taking as prescribed, and the bot...</td>\n",
       "      <td>10</td>\n",
       "      <td>19 Mar 12</td>\n",
       "      <td>124</td>\n",
       "      <td>104</td>\n",
       "    </tr>\n",
       "    <tr>\n",
       "      <th>4</th>\n",
       "      <td>4</td>\n",
       "      <td>91587</td>\n",
       "      <td>Dalfampridine</td>\n",
       "      <td>multiple sclerosis</td>\n",
       "      <td>\"i have been on ampyra for 5 days and have bee...</td>\n",
       "      <td>9</td>\n",
       "      <td>1 Aug 10</td>\n",
       "      <td>101</td>\n",
       "      <td>74</td>\n",
       "    </tr>\n",
       "  </tbody>\n",
       "</table>\n",
       "</div>"
      ],
      "text/plain": [
       "   Unnamed: 0  patient_id       drugName                   condition  \\\n",
       "0           0       89879   Cyclosporine  keratoconjunctivitis sicca   \n",
       "1           1      143975   Etonogestrel               birth control   \n",
       "2           2      106473       Implanon               birth control   \n",
       "3           3      184526    Hydroxyzine                     anxiety   \n",
       "4           4       91587  Dalfampridine          multiple sclerosis   \n",
       "\n",
       "                                              review  rating       date  \\\n",
       "0  \"i have used restasis for about a year now and...       2  20 Apr 13   \n",
       "1  \"my experience has been somewhat mixed. i have...       7   7 Aug 16   \n",
       "2  \"this is my second implanon would not recommen...       1  11 May 16   \n",
       "3  \"i recommend taking as prescribed, and the bot...      10  19 Mar 12   \n",
       "4  \"i have been on ampyra for 5 days and have bee...       9   1 Aug 10   \n",
       "\n",
       "   usefulCount  review_length  \n",
       "0           69            147  \n",
       "1            4            136  \n",
       "2            6            140  \n",
       "3          124            104  \n",
       "4          101             74  "
      ]
     },
     "metadata": {},
     "output_type": "display_data"
    },
    {
     "data": {
      "text/html": [
       "<div>\n",
       "<style scoped>\n",
       "    .dataframe tbody tr th:only-of-type {\n",
       "        vertical-align: middle;\n",
       "    }\n",
       "\n",
       "    .dataframe tbody tr th {\n",
       "        vertical-align: top;\n",
       "    }\n",
       "\n",
       "    .dataframe thead th {\n",
       "        text-align: right;\n",
       "    }\n",
       "</style>\n",
       "<table border=\"1\" class=\"dataframe\">\n",
       "  <thead>\n",
       "    <tr style=\"text-align: right;\">\n",
       "      <th></th>\n",
       "      <th>Unnamed: 0</th>\n",
       "      <th>patient_id</th>\n",
       "      <th>drugName</th>\n",
       "      <th>condition</th>\n",
       "      <th>review</th>\n",
       "      <th>rating</th>\n",
       "      <th>date</th>\n",
       "      <th>usefulCount</th>\n",
       "      <th>review_length</th>\n",
       "    </tr>\n",
       "  </thead>\n",
       "  <tbody>\n",
       "    <tr>\n",
       "      <th>0</th>\n",
       "      <td>0</td>\n",
       "      <td>191114</td>\n",
       "      <td>Campral</td>\n",
       "      <td>alcohol dependence</td>\n",
       "      <td>\"sober a year 8-25-11. god, aa and campral hav...</td>\n",
       "      <td>10.0</td>\n",
       "      <td>September 3, 2011</td>\n",
       "      <td>33</td>\n",
       "      <td>41</td>\n",
       "    </tr>\n",
       "    <tr>\n",
       "      <th>1</th>\n",
       "      <td>1</td>\n",
       "      <td>142693</td>\n",
       "      <td>Levonorgestrel</td>\n",
       "      <td>birth control</td>\n",
       "      <td>\"i've been on birth control for a while now du...</td>\n",
       "      <td>4.0</td>\n",
       "      <td>August 9, 2017</td>\n",
       "      <td>3</td>\n",
       "      <td>140</td>\n",
       "    </tr>\n",
       "    <tr>\n",
       "      <th>2</th>\n",
       "      <td>2</td>\n",
       "      <td>71561</td>\n",
       "      <td>Vraylar</td>\n",
       "      <td>bipolar disorde</td>\n",
       "      <td>\"hi, this is an updated experience. \\r\\r\\n\\r\\r...</td>\n",
       "      <td>8.0</td>\n",
       "      <td>August 16, 2016</td>\n",
       "      <td>12</td>\n",
       "      <td>131</td>\n",
       "    </tr>\n",
       "    <tr>\n",
       "      <th>3</th>\n",
       "      <td>3</td>\n",
       "      <td>25765</td>\n",
       "      <td>Ethinyl estradiol / norelgestromin</td>\n",
       "      <td>birth control</td>\n",
       "      <td>\"i have been on the ortho evra patch for just ...</td>\n",
       "      <td>8.0</td>\n",
       "      <td>September 15, 2013</td>\n",
       "      <td>16</td>\n",
       "      <td>138</td>\n",
       "    </tr>\n",
       "    <tr>\n",
       "      <th>4</th>\n",
       "      <td>4</td>\n",
       "      <td>12843</td>\n",
       "      <td>Etanercept</td>\n",
       "      <td>psoriasis</td>\n",
       "      <td>\"i have been on enbrel for 7 years and i have ...</td>\n",
       "      <td>9.0</td>\n",
       "      <td>August 5, 2010</td>\n",
       "      <td>9</td>\n",
       "      <td>65</td>\n",
       "    </tr>\n",
       "  </tbody>\n",
       "</table>\n",
       "</div>"
      ],
      "text/plain": [
       "   Unnamed: 0  patient_id                            drugName  \\\n",
       "0           0      191114                             Campral   \n",
       "1           1      142693                      Levonorgestrel   \n",
       "2           2       71561                             Vraylar   \n",
       "3           3       25765  Ethinyl estradiol / norelgestromin   \n",
       "4           4       12843                          Etanercept   \n",
       "\n",
       "            condition                                             review  \\\n",
       "0  alcohol dependence  \"sober a year 8-25-11. god, aa and campral hav...   \n",
       "1       birth control  \"i've been on birth control for a while now du...   \n",
       "2     bipolar disorde  \"hi, this is an updated experience. \\r\\r\\n\\r\\r...   \n",
       "3       birth control  \"i have been on the ortho evra patch for just ...   \n",
       "4           psoriasis  \"i have been on enbrel for 7 years and i have ...   \n",
       "\n",
       "   rating                date  usefulCount  review_length  \n",
       "0    10.0   September 3, 2011           33             41  \n",
       "1     4.0      August 9, 2017            3            140  \n",
       "2     8.0     August 16, 2016           12            131  \n",
       "3     8.0  September 15, 2013           16            138  \n",
       "4     9.0      August 5, 2010            9             65  "
      ]
     },
     "metadata": {},
     "output_type": "display_data"
    },
    {
     "data": {
      "text/html": [
       "<div>\n",
       "<style scoped>\n",
       "    .dataframe tbody tr th:only-of-type {\n",
       "        vertical-align: middle;\n",
       "    }\n",
       "\n",
       "    .dataframe tbody tr th {\n",
       "        vertical-align: top;\n",
       "    }\n",
       "\n",
       "    .dataframe thead th {\n",
       "        text-align: right;\n",
       "    }\n",
       "</style>\n",
       "<table border=\"1\" class=\"dataframe\">\n",
       "  <thead>\n",
       "    <tr style=\"text-align: right;\">\n",
       "      <th></th>\n",
       "      <th>Unnamed: 0</th>\n",
       "      <th>patient_id</th>\n",
       "      <th>drugName</th>\n",
       "      <th>condition</th>\n",
       "      <th>review</th>\n",
       "      <th>rating</th>\n",
       "      <th>date</th>\n",
       "      <th>usefulCount</th>\n",
       "      <th>review_length</th>\n",
       "    </tr>\n",
       "  </thead>\n",
       "  <tbody>\n",
       "    <tr>\n",
       "      <th>0</th>\n",
       "      <td>0</td>\n",
       "      <td>163740</td>\n",
       "      <td>Mirtazapine</td>\n",
       "      <td>depression</td>\n",
       "      <td>\"i've tried a few antidepressants over the yea...</td>\n",
       "      <td>10.0</td>\n",
       "      <td>February 28, 2012</td>\n",
       "      <td>22</td>\n",
       "      <td>68</td>\n",
       "    </tr>\n",
       "    <tr>\n",
       "      <th>1</th>\n",
       "      <td>1</td>\n",
       "      <td>206473</td>\n",
       "      <td>Mesalamine</td>\n",
       "      <td>crohn's disease, maintenance</td>\n",
       "      <td>\"my son has crohn's disease and has done very ...</td>\n",
       "      <td>8.0</td>\n",
       "      <td>May 17, 2009</td>\n",
       "      <td>17</td>\n",
       "      <td>48</td>\n",
       "    </tr>\n",
       "    <tr>\n",
       "      <th>2</th>\n",
       "      <td>2</td>\n",
       "      <td>39293</td>\n",
       "      <td>Contrave</td>\n",
       "      <td>weight loss</td>\n",
       "      <td>\"contrave combines drugs that were used for al...</td>\n",
       "      <td>9.0</td>\n",
       "      <td>March 5, 2017</td>\n",
       "      <td>35</td>\n",
       "      <td>143</td>\n",
       "    </tr>\n",
       "    <tr>\n",
       "      <th>3</th>\n",
       "      <td>3</td>\n",
       "      <td>97768</td>\n",
       "      <td>Cyclafem 1 / 35</td>\n",
       "      <td>birth control</td>\n",
       "      <td>\"i have been on this birth control for one cyc...</td>\n",
       "      <td>9.0</td>\n",
       "      <td>October 22, 2015</td>\n",
       "      <td>4</td>\n",
       "      <td>149</td>\n",
       "    </tr>\n",
       "    <tr>\n",
       "      <th>4</th>\n",
       "      <td>4</td>\n",
       "      <td>208087</td>\n",
       "      <td>Zyclara</td>\n",
       "      <td>keratosis</td>\n",
       "      <td>\"4 days in on first 2 weeks.  using on arms an...</td>\n",
       "      <td>4.0</td>\n",
       "      <td>July 3, 2014</td>\n",
       "      <td>13</td>\n",
       "      <td>60</td>\n",
       "    </tr>\n",
       "  </tbody>\n",
       "</table>\n",
       "</div>"
      ],
      "text/plain": [
       "   Unnamed: 0  patient_id         drugName                     condition  \\\n",
       "0           0      163740      Mirtazapine                    depression   \n",
       "1           1      206473       Mesalamine  crohn's disease, maintenance   \n",
       "2           2       39293         Contrave                   weight loss   \n",
       "3           3       97768  Cyclafem 1 / 35                 birth control   \n",
       "4           4      208087          Zyclara                     keratosis   \n",
       "\n",
       "                                              review  rating  \\\n",
       "0  \"i've tried a few antidepressants over the yea...    10.0   \n",
       "1  \"my son has crohn's disease and has done very ...     8.0   \n",
       "2  \"contrave combines drugs that were used for al...     9.0   \n",
       "3  \"i have been on this birth control for one cyc...     9.0   \n",
       "4  \"4 days in on first 2 weeks.  using on arms an...     4.0   \n",
       "\n",
       "                date  usefulCount  review_length  \n",
       "0  February 28, 2012           22             68  \n",
       "1       May 17, 2009           17             48  \n",
       "2      March 5, 2017           35            143  \n",
       "3   October 22, 2015            4            149  \n",
       "4       July 3, 2014           13             60  "
      ]
     },
     "metadata": {},
     "output_type": "display_data"
    }
   ],
   "source": [
    "display(train_df.head())\n",
    "display(val_df.head())\n",
    "display(test_df.head())"
   ]
  },
  {
   "cell_type": "code",
   "execution_count": 4,
   "id": "4aefeab4",
   "metadata": {},
   "outputs": [
    {
     "name": "stdout",
     "output_type": "stream",
     "text": [
      "<class 'pandas.core.frame.DataFrame'>\n",
      "RangeIndex: 110811 entries, 0 to 110810\n",
      "Data columns (total 9 columns):\n",
      " #   Column         Non-Null Count   Dtype \n",
      "---  ------         --------------   ----- \n",
      " 0   Unnamed: 0     110811 non-null  int64 \n",
      " 1   patient_id     110811 non-null  int64 \n",
      " 2   drugName       110811 non-null  object\n",
      " 3   condition      110811 non-null  object\n",
      " 4   review         110811 non-null  object\n",
      " 5   rating         110811 non-null  int64 \n",
      " 6   date           110811 non-null  object\n",
      " 7   usefulCount    110811 non-null  int64 \n",
      " 8   review_length  110811 non-null  int64 \n",
      "dtypes: int64(5), object(4)\n",
      "memory usage: 7.6+ MB\n"
     ]
    },
    {
     "data": {
      "text/plain": [
       "None"
      ]
     },
     "metadata": {},
     "output_type": "display_data"
    },
    {
     "name": "stdout",
     "output_type": "stream",
     "text": [
      "<class 'pandas.core.frame.DataFrame'>\n",
      "RangeIndex: 27703 entries, 0 to 27702\n",
      "Data columns (total 9 columns):\n",
      " #   Column         Non-Null Count  Dtype  \n",
      "---  ------         --------------  -----  \n",
      " 0   Unnamed: 0     27703 non-null  int64  \n",
      " 1   patient_id     27703 non-null  int64  \n",
      " 2   drugName       27703 non-null  object \n",
      " 3   condition      27703 non-null  object \n",
      " 4   review         27703 non-null  object \n",
      " 5   rating         27703 non-null  float64\n",
      " 6   date           27703 non-null  object \n",
      " 7   usefulCount    27703 non-null  int64  \n",
      " 8   review_length  27703 non-null  int64  \n",
      "dtypes: float64(1), int64(4), object(4)\n",
      "memory usage: 1.9+ MB\n"
     ]
    },
    {
     "data": {
      "text/plain": [
       "None"
      ]
     },
     "metadata": {},
     "output_type": "display_data"
    },
    {
     "name": "stdout",
     "output_type": "stream",
     "text": [
      "<class 'pandas.core.frame.DataFrame'>\n",
      "RangeIndex: 46108 entries, 0 to 46107\n",
      "Data columns (total 9 columns):\n",
      " #   Column         Non-Null Count  Dtype  \n",
      "---  ------         --------------  -----  \n",
      " 0   Unnamed: 0     46108 non-null  int64  \n",
      " 1   patient_id     46108 non-null  int64  \n",
      " 2   drugName       46108 non-null  object \n",
      " 3   condition      46108 non-null  object \n",
      " 4   review         46108 non-null  object \n",
      " 5   rating         46108 non-null  float64\n",
      " 6   date           46108 non-null  object \n",
      " 7   usefulCount    46108 non-null  int64  \n",
      " 8   review_length  46108 non-null  int64  \n",
      "dtypes: float64(1), int64(4), object(4)\n",
      "memory usage: 3.2+ MB\n"
     ]
    },
    {
     "data": {
      "text/plain": [
       "None"
      ]
     },
     "metadata": {},
     "output_type": "display_data"
    }
   ],
   "source": [
    "display(train_df.info())\n",
    "display(val_df.info())\n",
    "display(test_df.info())"
   ]
  },
  {
   "cell_type": "code",
   "execution_count": 5,
   "id": "1d8f405e",
   "metadata": {},
   "outputs": [
    {
     "name": "stdout",
     "output_type": "stream",
     "text": [
      "Unique drugs in train set: 2865\n"
     ]
    }
   ],
   "source": [
    "print(\"Unique drugs in train set:\", len(train_df['drugName'].unique())) # not important"
   ]
  },
  {
   "cell_type": "markdown",
   "id": "c654b47f",
   "metadata": {},
   "source": [
    "## Dependent variable - 'rating' preprocessing - part 1/2"
   ]
  },
  {
   "cell_type": "markdown",
   "id": "19da36c5",
   "metadata": {},
   "source": [
    "### Notice that there is dtype mismatch issue for 'rating'"
   ]
  },
  {
   "cell_type": "code",
   "execution_count": 6,
   "id": "d0501606",
   "metadata": {},
   "outputs": [
    {
     "name": "stdout",
     "output_type": "stream",
     "text": [
      "Non-integer ratings in val: 0\n",
      "Non-integer ratings in test: 0\n",
      "\n",
      "Train rating range: 1 to 10\n",
      "Val rating range: 1.0 to 10.0\n",
      "Test rating range: 1.0 to 10.0\n"
     ]
    }
   ],
   "source": [
    "def check_rating_consistency(train_df, val_df, test_df):\n",
    "    \"\"\"Check if ratings are truly compatible\"\"\"\n",
    "    \n",
    "    # Check for non-integer values in val/test\n",
    "    val_non_int = val_df[~val_df['rating'].apply(float.is_integer)] \n",
    "    test_non_int = test_df[~test_df['rating'].apply(float.is_integer)]\n",
    "    \n",
    "    print(f\"Non-integer ratings in val: {len(val_non_int)}\")\n",
    "    print(f\"Non-integer ratings in test: {len(test_non_int)}\")\n",
    "    \n",
    "    # Check value ranges\n",
    "    print(f\"\\nTrain rating range: {train_df['rating'].min()} to {train_df['rating'].max()}\")\n",
    "    print(f\"Val rating range: {val_df['rating'].min()} to {val_df['rating'].max()}\")\n",
    "    print(f\"Test rating range: {test_df['rating'].min()} to {test_df['rating'].max()}\")\n",
    "\n",
    "check_rating_consistency(train_df, val_df, test_df)"
   ]
  },
  {
   "cell_type": "code",
   "execution_count": 7,
   "id": "4854f0f3",
   "metadata": {},
   "outputs": [
    {
     "name": "stdout",
     "output_type": "stream",
     "text": [
      "Val rating dtype: int64\n",
      "Test rating dtype: int64\n"
     ]
    }
   ],
   "source": [
    "# All decimals are .0, convert to int\n",
    "val_df['rating'] = val_df['rating'].astype(np.int64)\n",
    "test_df['rating'] = test_df['rating'].astype(np.int64)\n",
    "\n",
    "print(\"Val rating dtype:\", val_df['rating'].dtype)\n",
    "print(\"Test rating dtype:\", test_df['rating'].dtype)"
   ]
  },
  {
   "cell_type": "markdown",
   "id": "7df17033",
   "metadata": {},
   "source": [
    "### Add a feature: 'sentiment'"
   ]
  },
  {
   "cell_type": "code",
   "execution_count": 8,
   "id": "35878be4",
   "metadata": {},
   "outputs": [],
   "source": [
    "def sentiments_label(rating):\n",
    "    if rating >= 7:\n",
    "        return 'positive'\n",
    "    elif rating >= 4:\n",
    "        return 'neutral'\n",
    "    else:\n",
    "        return 'negative'\n",
    "\n",
    "# Apply sentiment labeling (corrected)\n",
    "train_df['sentiment'] = train_df['rating'].apply(sentiments_label)\n",
    "val_df['sentiment'] = val_df['rating'].apply(sentiments_label)\n",
    "test_df['sentiment'] = test_df['rating'].apply(sentiments_label)"
   ]
  },
  {
   "cell_type": "markdown",
   "id": "f39fa7bd",
   "metadata": {},
   "source": [
    "## Visualizations"
   ]
  },
  {
   "cell_type": "markdown",
   "id": "7ae589ac",
   "metadata": {},
   "source": [
    "### Sentiment distribution"
   ]
  },
  {
   "cell_type": "code",
   "execution_count": 9,
   "id": "e4c34f2e",
   "metadata": {},
   "outputs": [
    {
     "data": {
      "image/png": "[encoded data removed]",
      "text/plain": [
       "<Figure size 1600x600 with 2 Axes>"
      ]
     },
     "metadata": {},
     "output_type": "display_data"
    }
   ],
   "source": [
    "# Create 1x2 subplots\n",
    "fig, (ax1, ax2) = plt.subplots(1, 2, figsize=(16, 6))\n",
    "\n",
    "# Rating distribution\n",
    "sns.countplot(x='rating', hue='rating', data=train_df, palette='pastel', legend=False, ax=ax1)\n",
    "ax1.set_title('Distribution of Rating')\n",
    "ax1.set_xlabel('Rating')\n",
    "ax1.set_ylabel('Count')\n",
    "\n",
    "# Sentiment distribution\n",
    "sns.countplot(x='sentiment', hue='sentiment', data=train_df, palette='pastel', legend=False, ax=ax2)\n",
    "ax2.set_title('Distribution of Sentiment')\n",
    "ax2.set_xlabel('Sentiment')\n",
    "ax2.set_ylabel('Count')\n",
    "\n",
    "plt.tight_layout()\n",
    "plt.show()"
   ]
  },
  {
   "cell_type": "code",
   "execution_count": 10,
   "id": "972c39ce",
   "metadata": {},
   "outputs": [
    {
     "name": "stdout",
     "output_type": "stream",
     "text": [
      "=== TRAIN DATAFRAME SENTIMENT DISTRIBUTION ===\n",
      "Counts:\n",
      "sentiment\n",
      "positive    73638\n",
      "negative    23602\n",
      "neutral     13571\n",
      "Name: count, dtype: int64\n",
      "\n",
      "Percentages:\n",
      "sentiment\n",
      "positive    66.453691\n",
      "negative    21.299329\n",
      "neutral     12.246979\n",
      "Name: proportion, dtype: float64\n",
      "--------------------------------------------------\n"
     ]
    }
   ],
   "source": [
    "print(\"=== TRAIN DATAFRAME SENTIMENT DISTRIBUTION ===\")\n",
    "train_counts = train_df['sentiment'].value_counts()\n",
    "train_percentages = train_df['sentiment'].value_counts(normalize=True) * 100\n",
    "print(\"Counts:\")\n",
    "print(train_counts)\n",
    "print(\"\\nPercentages:\")\n",
    "print(train_percentages)\n",
    "print(\"-\" * 50)"
   ]
  },
  {
   "cell_type": "code",
   "execution_count": 11,
   "id": "a1352035",
   "metadata": {},
   "outputs": [
    {
     "name": "stdout",
     "output_type": "stream",
     "text": [
      "=== VALIDATION DATAFRAME SENTIMENT DISTRIBUTION ===\n",
      "Counts:\n",
      "sentiment\n",
      "positive    18344\n",
      "negative     5834\n",
      "neutral      3525\n",
      "Name: count, dtype: int64\n",
      "\n",
      "Percentages:\n",
      "sentiment\n",
      "positive    66.216655\n",
      "negative    21.059091\n",
      "neutral     12.724254\n",
      "Name: proportion, dtype: float64\n",
      "--------------------------------------------------\n",
      "=== TEST DATAFRAME SENTIMENT DISTRIBUTION ===\n",
      "Counts:\n",
      "sentiment\n",
      "positive    30409\n",
      "negative     9993\n",
      "neutral      5706\n",
      "Name: count, dtype: int64\n",
      "\n",
      "Percentages:\n",
      "sentiment\n",
      "positive    65.951679\n",
      "negative    21.673029\n",
      "neutral     12.375293\n",
      "Name: proportion, dtype: float64\n",
      "--------------------------------------------------\n"
     ]
    }
   ],
   "source": [
    "print(\"=== VALIDATION DATAFRAME SENTIMENT DISTRIBUTION ===\")\n",
    "val_counts = val_df['sentiment'].value_counts()\n",
    "val_percentages = val_df['sentiment'].value_counts(normalize=True) * 100\n",
    "print(\"Counts:\")\n",
    "print(val_counts)\n",
    "print(\"\\nPercentages:\")\n",
    "print(val_percentages)\n",
    "print(\"-\" * 50)\n",
    "\n",
    "# Show sentiment distribution in test data\n",
    "print(\"=== TEST DATAFRAME SENTIMENT DISTRIBUTION ===\")\n",
    "test_counts = test_df['sentiment'].value_counts()\n",
    "test_percentages = test_df['sentiment'].value_counts(normalize=True) * 100\n",
    "print(\"Counts:\")\n",
    "print(test_counts)\n",
    "print(\"\\nPercentages:\")\n",
    "print(test_percentages)\n",
    "print(\"-\" * 50)"
   ]
  },
  {
   "cell_type": "code",
   "execution_count": 12,
   "id": "cf85750a",
   "metadata": {},
   "outputs": [
    {
     "data": {
      "image/png": "[encoded data removed]",
      "text/plain": [
       "<Figure size 1200x600 with 1 Axes>"
      ]
     },
     "metadata": {},
     "output_type": "display_data"
    }
   ],
   "source": [
    "txt_len = train_df['review'].astype(str).apply(len)\n",
    "\n",
    "plt.figure(figsize=(12, 6))\n",
    "sns.histplot(data=train_df, x=txt_len, hue=\"sentiment\", kde=True, bins=1000, palette=\"pastel\", alpha=0.6) \n",
    "plt.title(\"Distribution of Review Lengths by Sentiment\")\n",
    "plt.xlabel(\"Review Length (characters)\")\n",
    "plt.ylabel(\"Frequency\")\n",
    "# plt.xscale('log')  # Logarithmic scale\n",
    "plt.xlim(0, 1000)\n",
    "plt.grid(True)\n",
    "plt.tight_layout()\n",
    "plt.show()"
   ]
  },
  {
   "cell_type": "code",
   "execution_count": 13,
   "id": "2384be56",
   "metadata": {},
   "outputs": [
    {
     "name": "stderr",
     "output_type": "stream",
     "text": [
      "C:\\Users\\chun\\AppData\\Local\\Temp\\ipykernel_25320\\3683608119.py:2: FutureWarning: \n",
      "\n",
      "Passing `palette` without assigning `hue` is deprecated and will be removed in v0.14.0. Assign the `x` variable to `hue` and set `legend=False` for the same effect.\n",
      "\n",
      "  sns.boxplot(data=train_df, x='sentiment', y=txt_len, palette=\"pastel\")\n"
     ]
    },
    {
     "data": {
      "image/png": "[encoded data removed]",
      "text/plain": [
       "<Figure size 1200x600 with 1 Axes>"
      ]
     },
     "metadata": {},
     "output_type": "display_data"
    }
   ],
   "source": [
    "plt.figure(figsize=(12, 6))\n",
    "sns.boxplot(data=train_df, x='sentiment', y=txt_len, palette=\"pastel\")\n",
    "plt.title(\"Distribution of Review Lengths by Sentiment\")\n",
    "plt.xlabel(\"Sentiment\")\n",
    "plt.ylabel(\"Review Length (characters)\")\n",
    "plt.grid(True, axis='y')\n",
    "plt.tight_layout()\n",
    "plt.show()"
   ]
  },
  {
   "cell_type": "markdown",
   "id": "025f2cb7",
   "metadata": {},
   "source": [
    "## Issues discovered in EDA\n",
    "\n",
    "1. Data type mismatch for rating --- Solved in EDA\n",
    "2. Class imbalance --- Solved in Data Preprocessing"
   ]
  },
  {
   "cell_type": "markdown",
   "id": "801c9d88",
   "metadata": {},
   "source": [
    "# Data Preprocessing"
   ]
  },
  {
   "cell_type": "markdown",
   "id": "d0645306",
   "metadata": {},
   "source": [
    "### Feature selection"
   ]
  },
  {
   "cell_type": "code",
   "execution_count": 14,
   "id": "22bd7b40",
   "metadata": {},
   "outputs": [],
   "source": [
    "# Select only the 'review' and 'rating' columns; Drop all the others\n",
    "train_df = train_df[['review', 'sentiment']]\n",
    "val_df = val_df[['review', 'sentiment']]\n",
    "test_df = test_df[['review', 'sentiment']]"
   ]
  },
  {
   "cell_type": "markdown",
   "id": "108ed0f7",
   "metadata": {},
   "source": [
    "## Dependent variable - 'rating' preprocessing - part 2/2 "
   ]
  },
  {
   "cell_type": "markdown",
   "id": "df70c581",
   "metadata": {},
   "source": [
    "### Label encoding"
   ]
  },
  {
   "cell_type": "code",
   "execution_count": 15,
   "id": "5598ea27",
   "metadata": {},
   "outputs": [],
   "source": [
    "# from sklearn.preprocessing import LabelEncoder\n",
    "# label_encoder = LabelEncoder()\n",
    "# train_df['sentiment_encoded'] = label_encoder.fit_transform(train_df['sentiment'])\n",
    "# val_df['sentiment_encoded'] = label_encoder.transform(val_df['sentiment'])\n",
    "# test_df['sentiment_encoded'] = label_encoder.transform(test_df['sentiment'])\n",
    "# print(\"Label mapping:\", dict(zip(label_encoder.classes_, range(len(label_encoder.classes_)))))\n",
    "\n",
    "train_df['sentiment_encoded'] = train_df['sentiment'].map({'negative': 0, 'neutral': 1, 'positive': 2})\n",
    "val_df['sentiment_encoded'] = val_df['sentiment'].map({'negative': 0, 'neutral': 1, 'positive': 2})\n",
    "test_df['sentiment_encoded'] = test_df['sentiment'].map({'negative': 0, 'neutral': 1, 'positive': 2})"
   ]
  },
  {
   "cell_type": "markdown",
   "id": "6d4cd612",
   "metadata": {},
   "source": [
    "### Check if null values exist"
   ]
  },
  {
   "cell_type": "code",
   "execution_count": 16,
   "id": "67090e9e",
   "metadata": {},
   "outputs": [
    {
     "data": {
      "text/plain": [
       "review               0\n",
       "sentiment            0\n",
       "sentiment_encoded    0\n",
       "dtype: int64"
      ]
     },
     "metadata": {},
     "output_type": "display_data"
    },
    {
     "data": {
      "text/plain": [
       "review               0\n",
       "sentiment            0\n",
       "sentiment_encoded    0\n",
       "dtype: int64"
      ]
     },
     "metadata": {},
     "output_type": "display_data"
    },
    {
     "data": {
      "text/plain": [
       "review               0\n",
       "sentiment            0\n",
       "sentiment_encoded    0\n",
       "dtype: int64"
      ]
     },
     "metadata": {},
     "output_type": "display_data"
    }
   ],
   "source": [
    "display(train_df.isnull().sum())\n",
    "display(val_df.isnull().sum())\n",
    "display(test_df.isnull().sum())"
   ]
  },
  {
   "cell_type": "markdown",
   "id": "4c743d86",
   "metadata": {},
   "source": [
    "## Independent variable - 'review' text preprocessing"
   ]
  },
  {
   "cell_type": "markdown",
   "id": "5d2d253b",
   "metadata": {},
   "source": [
    "### Decontract"
   ]
  },
  {
   "cell_type": "code",
   "execution_count": 17,
   "id": "d75914ec",
   "metadata": {},
   "outputs": [
    {
     "name": "stdout",
     "output_type": "stream",
     "text": [
      "Input: I can't believe it's not butter!\n",
      "Output: I cannot believe it is not butter!\n"
     ]
    }
   ],
   "source": [
    "train_df['review'] = train_df['review'].apply(lambda x: contractions.fix(str(x)))\n",
    "val_df['review'] = val_df['review'].apply(lambda x: contractions.fix(str(x)))\n",
    "test_df['review'] = test_df['review'].apply(lambda x: contractions.fix(str(x)))\n",
    "\n",
    "print(\"Input:\", \"I can't believe it's not butter!\")\n",
    "print(\"Output:\", contractions.fix(\"I can't believe it's not butter!\")) # Output: I cannot believe it is not butter!"
   ]
  },
  {
   "cell_type": "markdown",
   "id": "72dcc5e1",
   "metadata": {},
   "source": [
    "### Lowercase, HTML tags / URLs / special characters removal"
   ]
  },
  {
   "cell_type": "code",
   "execution_count": 18,
   "id": "1d3540a0",
   "metadata": {},
   "outputs": [],
   "source": [
    "def normalize_text(text):\n",
    "    text = text.lower()\n",
    "    text = re.sub(r'https?://\\S+|www\\.\\S+', '', text) # remove URLs\n",
    "    text = re.sub(r'\\W', ' ', text) # remove non-alphabet\n",
    "    text = re.sub(r'\\s+', ' ', text).strip() # remove extra spaces\n",
    "    return text"
   ]
  },
  {
   "cell_type": "code",
   "execution_count": 19,
   "id": "056c92ca",
   "metadata": {},
   "outputs": [],
   "source": [
    "train_df['review'] = train_df['review'].apply(normalize_text)\n",
    "val_df['review'] = val_df['review'].apply(normalize_text)\n",
    "test_df['review'] = test_df['review'].apply(normalize_text)"
   ]
  },
  {
   "cell_type": "markdown",
   "id": "c48670eb",
   "metadata": {},
   "source": [
    "### Stopwords removal"
   ]
  },
  {
   "cell_type": "code",
   "execution_count": 20,
   "id": "4159b3a2",
   "metadata": {},
   "outputs": [
    {
     "name": "stderr",
     "output_type": "stream",
     "text": [
      "[nltk_data] Downloading package stopwords to\n",
      "[nltk_data]     C:\\Users\\chun\\AppData\\Roaming\\nltk_data...\n",
      "[nltk_data]   Package stopwords is already up-to-date!\n"
     ]
    },
    {
     "name": "stdout",
     "output_type": "stream",
     "text": [
      "Input: this is a great medication and it works very well\n",
      "Output: great medication works well\n"
     ]
    }
   ],
   "source": [
    "nltk.download('stopwords')\n",
    "stop_words = set(stopwords.words('english'))\n",
    "\n",
    "def remove_stopwords(text):\n",
    "    words = str(text).split()\n",
    "    filtered_words = [word for word in words if word.lower() not in stop_words]\n",
    "    return ' '.join(filtered_words)\n",
    "\n",
    "train_df['review'] = train_df['review'].apply(remove_stopwords)\n",
    "val_df['review'] = val_df['review'].apply(remove_stopwords)\n",
    "test_df['review'] = train_df['review'].apply(remove_stopwords)\n",
    "\n",
    "# Quick verification if nltk stopword removal works\n",
    "print(\"Input:\", \"this is a great medication and it works very well\")\n",
    "print(\"Output:\", remove_stopwords(\"this is a great medication and it works very well\"))"
   ]
  },
  {
   "cell_type": "markdown",
   "id": "989c933b",
   "metadata": {},
   "source": [
    "### Lemmatization "
   ]
  },
  {
   "cell_type": "code",
   "execution_count": 21,
   "id": "ea781ef8",
   "metadata": {},
   "outputs": [
    {
     "name": "stdout",
     "output_type": "stream",
     "text": [
      "spaCy model loaded\n"
     ]
    }
   ],
   "source": [
    "try:\n",
    "    nlp = spacy.load(\"en_core_web_sm\")\n",
    "    print(\"spaCy model loaded\")\n",
    "    \n",
    "except OSError:\n",
    "    print(\"Downloading spaCy model...\")\n",
    "    os.system(\"python -m spacy download en_core_web_sm\")\n",
    "    \n",
    "    nlp = spacy.load(\"en_core_web_sm\")\n",
    "    print(\"spaCy model loaded\")"
   ]
  },
  {
   "cell_type": "code",
   "execution_count": 22,
   "id": "150cf743",
   "metadata": {},
   "outputs": [],
   "source": [
    "def spacy_lemmatize(text):\n",
    "    text = str(text)\n",
    "    if not text.strip(): return \"\" # checks for empty/whitespace-only strings\n",
    "    \n",
    "    doc = nlp(text) # <- spacy automatically tokenizes here\n",
    "    # doc contains tokens like: [I, like, cat]\n",
    "\n",
    "    lemmas = [\n",
    "        token.lemma_.lower() \n",
    "        for token in doc \n",
    "        # if not token.is_stop and not token.is_punct and not token.is_space\n",
    "    ]\n",
    "    \n",
    "    return ' '.join(lemmas)"
   ]
  },
  {
   "cell_type": "code",
   "execution_count": 23,
   "id": "d9ea236a",
   "metadata": {},
   "outputs": [
    {
     "name": "stdout",
     "output_type": "stream",
     "text": [
      "\n",
      "Input:  I'm feeling much better after taking this medication\n",
      "Output: i be feel much well after take this medication\n",
      "\n",
      "Input:  The side effects were getting worse over time\n",
      "Output: the side effect be get bad over time\n"
     ]
    }
   ],
   "source": [
    "# Quick verification if spaCy lemmatization works\n",
    "quick_tests = [\n",
    "    \"I'm feeling much better after taking this medication\", \n",
    "    \"The side effects were getting worse over time\" \n",
    "]\n",
    "\n",
    "for test in quick_tests:\n",
    "    result = spacy_lemmatize(test)\n",
    "    print(f\"\\nInput:  {test}\")\n",
    "    print(f\"Output: {result}\")\n",
    "    # print(f\"Reduction: {len(test.split())} → {len(result.split())} words\")"
   ]
  },
  {
   "cell_type": "code",
   "execution_count": 24,
   "id": "cd8b18f1",
   "metadata": {},
   "outputs": [
    {
     "name": "stdout",
     "output_type": "stream",
     "text": [
      "Applying spaCy lemmatization to training data...\n",
      "Applying spaCy lemmatization to validation data...\n",
      "Applying spaCy lemmatization to test data...\n",
      "\n",
      "spaCy lemmatization completed!\n"
     ]
    }
   ],
   "source": [
    "# Apply spaCy lemmatization to df['review']\n",
    "print(\"Applying spaCy lemmatization to training data...\")\n",
    "train_df['review'] = train_df['review'].apply(spacy_lemmatize)\n",
    "\n",
    "print(\"Applying spaCy lemmatization to validation data...\")\n",
    "val_df['review'] = val_df['review'].apply(spacy_lemmatize)\n",
    "\n",
    "print(\"Applying spaCy lemmatization to test data...\")\n",
    "test_df['review'] = test_df['review'].apply(spacy_lemmatize)\n",
    "\n",
    "print(\"\\nspaCy lemmatization completed!\")"
   ]
  },
  {
   "cell_type": "markdown",
   "id": "237a1b15",
   "metadata": {},
   "source": [
    "### Tokenization"
   ]
  },
  {
   "cell_type": "code",
   "execution_count": 25,
   "id": "40a33b02",
   "metadata": {},
   "outputs": [],
   "source": [
    "# spaCy already tokenized during lemmatization,\n",
    "# It's just converted back to strings for storage, \n",
    "# Vectorizers will re-tokenize automatically"
   ]
  },
  {
   "cell_type": "markdown",
   "id": "e106743c",
   "metadata": {},
   "source": [
    "# Save & load processed variables"
   ]
  },
  {
   "cell_type": "markdown",
   "id": "58f17eb1",
   "metadata": {},
   "source": [
    "### Save variables"
   ]
  },
  {
   "cell_type": "code",
   "execution_count": null,
   "id": "b13a9f0f",
   "metadata": {},
   "outputs": [],
   "source": [
    "train_df.to_pickle('train_df.pkl.gz', compression='gzip')\n",
    "val_df.to_pickle('val_df.pkl.gz', compression='gzip')\n",
    "test_df.to_pickle('test_df.pkl.gz', compression='gzip')"
   ]
  },
  {
   "cell_type": "markdown",
   "id": "d077342c",
   "metadata": {},
   "source": [
    "### Load variables"
   ]
  },
  {
   "cell_type": "code",
   "execution_count": null,
   "id": "aba07746",
   "metadata": {},
   "outputs": [],
   "source": [
    "train_df = pd.read_pickle('train_df.pkl.gz', compression='gzip')\n",
    "val_df = pd.read_pickle('val_df.pkl.gz', compression='gzip')\n",
    "test_df = pd.read_pickle('test_df.pkl.gz', compression='gzip')"
   ]
  },
  {
   "cell_type": "markdown",
   "id": "1a93c318",
   "metadata": {},
   "source": [
    "### View variables"
   ]
  },
  {
   "cell_type": "code",
   "execution_count": 3,
   "id": "4bb378ab",
   "metadata": {},
   "outputs": [
    {
     "data": {
      "text/html": [
       "<div>\n",
       "<style scoped>\n",
       "    .dataframe tbody tr th:only-of-type {\n",
       "        vertical-align: middle;\n",
       "    }\n",
       "\n",
       "    .dataframe tbody tr th {\n",
       "        vertical-align: top;\n",
       "    }\n",
       "\n",
       "    .dataframe thead th {\n",
       "        text-align: right;\n",
       "    }\n",
       "</style>\n",
       "<table border=\"1\" class=\"dataframe\">\n",
       "  <thead>\n",
       "    <tr style=\"text-align: right;\">\n",
       "      <th></th>\n",
       "      <th>review</th>\n",
       "      <th>sentiment</th>\n",
       "      <th>sentiment_encoded</th>\n",
       "    </tr>\n",
       "  </thead>\n",
       "  <tbody>\n",
       "    <tr>\n",
       "      <th>0</th>\n",
       "      <td>use restasis year see almost progress life red...</td>\n",
       "      <td>negative</td>\n",
       "      <td>0</td>\n",
       "    </tr>\n",
       "    <tr>\n",
       "      <th>1</th>\n",
       "      <td>experience somewhat mixed use implanon nearly ...</td>\n",
       "      <td>positive</td>\n",
       "      <td>2</td>\n",
       "    </tr>\n",
       "    <tr>\n",
       "      <th>2</th>\n",
       "      <td>second implanon would recommend first one okay...</td>\n",
       "      <td>negative</td>\n",
       "      <td>0</td>\n",
       "    </tr>\n",
       "    <tr>\n",
       "      <th>3</th>\n",
       "      <td>recommend take prescribe bottle usually say ta...</td>\n",
       "      <td>positive</td>\n",
       "      <td>2</td>\n",
       "    </tr>\n",
       "    <tr>\n",
       "      <th>4</th>\n",
       "      <td>ampyra 5 day happy new pill first 2 day good s...</td>\n",
       "      <td>positive</td>\n",
       "      <td>2</td>\n",
       "    </tr>\n",
       "  </tbody>\n",
       "</table>\n",
       "</div>"
      ],
      "text/plain": [
       "                                              review sentiment  \\\n",
       "0  use restasis year see almost progress life red...  negative   \n",
       "1  experience somewhat mixed use implanon nearly ...  positive   \n",
       "2  second implanon would recommend first one okay...  negative   \n",
       "3  recommend take prescribe bottle usually say ta...  positive   \n",
       "4  ampyra 5 day happy new pill first 2 day good s...  positive   \n",
       "\n",
       "   sentiment_encoded  \n",
       "0                  0  \n",
       "1                  2  \n",
       "2                  0  \n",
       "3                  2  \n",
       "4                  2  "
      ]
     },
     "metadata": {},
     "output_type": "display_data"
    },
    {
     "data": {
      "text/html": [
       "<div>\n",
       "<style scoped>\n",
       "    .dataframe tbody tr th:only-of-type {\n",
       "        vertical-align: middle;\n",
       "    }\n",
       "\n",
       "    .dataframe tbody tr th {\n",
       "        vertical-align: top;\n",
       "    }\n",
       "\n",
       "    .dataframe thead th {\n",
       "        text-align: right;\n",
       "    }\n",
       "</style>\n",
       "<table border=\"1\" class=\"dataframe\">\n",
       "  <thead>\n",
       "    <tr style=\"text-align: right;\">\n",
       "      <th></th>\n",
       "      <th>review</th>\n",
       "      <th>sentiment</th>\n",
       "      <th>sentiment_encoded</th>\n",
       "    </tr>\n",
       "  </thead>\n",
       "  <tbody>\n",
       "    <tr>\n",
       "      <th>0</th>\n",
       "      <td>sober year 8 25 11 god aa campral work craving...</td>\n",
       "      <td>positive</td>\n",
       "      <td>2</td>\n",
       "    </tr>\n",
       "    <tr>\n",
       "      <th>1</th>\n",
       "      <td>birth control due horrendous cramp excessively...</td>\n",
       "      <td>neutral</td>\n",
       "      <td>1</td>\n",
       "    </tr>\n",
       "    <tr>\n",
       "      <th>2</th>\n",
       "      <td>hi update experience vraylar 2 month side effe...</td>\n",
       "      <td>positive</td>\n",
       "      <td>2</td>\n",
       "    </tr>\n",
       "    <tr>\n",
       "      <th>3</th>\n",
       "      <td>ortho evra patch month first apply patch small...</td>\n",
       "      <td>positive</td>\n",
       "      <td>2</td>\n",
       "    </tr>\n",
       "    <tr>\n",
       "      <th>4</th>\n",
       "      <td>enbrel 7 year tell awesome able thing never th...</td>\n",
       "      <td>positive</td>\n",
       "      <td>2</td>\n",
       "    </tr>\n",
       "  </tbody>\n",
       "</table>\n",
       "</div>"
      ],
      "text/plain": [
       "                                              review sentiment  \\\n",
       "0  sober year 8 25 11 god aa campral work craving...  positive   \n",
       "1  birth control due horrendous cramp excessively...   neutral   \n",
       "2  hi update experience vraylar 2 month side effe...  positive   \n",
       "3  ortho evra patch month first apply patch small...  positive   \n",
       "4  enbrel 7 year tell awesome able thing never th...  positive   \n",
       "\n",
       "   sentiment_encoded  \n",
       "0                  2  \n",
       "1                  1  \n",
       "2                  2  \n",
       "3                  2  \n",
       "4                  2  "
      ]
     },
     "metadata": {},
     "output_type": "display_data"
    },
    {
     "data": {
      "text/html": [
       "<div>\n",
       "<style scoped>\n",
       "    .dataframe tbody tr th:only-of-type {\n",
       "        vertical-align: middle;\n",
       "    }\n",
       "\n",
       "    .dataframe tbody tr th {\n",
       "        vertical-align: top;\n",
       "    }\n",
       "\n",
       "    .dataframe thead th {\n",
       "        text-align: right;\n",
       "    }\n",
       "</style>\n",
       "<table border=\"1\" class=\"dataframe\">\n",
       "  <thead>\n",
       "    <tr style=\"text-align: right;\">\n",
       "      <th></th>\n",
       "      <th>review</th>\n",
       "      <th>sentiment</th>\n",
       "      <th>sentiment_encoded</th>\n",
       "    </tr>\n",
       "  </thead>\n",
       "  <tbody>\n",
       "    <tr>\n",
       "      <th>0</th>\n",
       "      <td>use restasis year see almost progress life red...</td>\n",
       "      <td>positive</td>\n",
       "      <td>2</td>\n",
       "    </tr>\n",
       "    <tr>\n",
       "      <th>1</th>\n",
       "      <td>experience somewhat mixed use implanon nearly ...</td>\n",
       "      <td>positive</td>\n",
       "      <td>2</td>\n",
       "    </tr>\n",
       "    <tr>\n",
       "      <th>2</th>\n",
       "      <td>second implanon would recommend first one okay...</td>\n",
       "      <td>positive</td>\n",
       "      <td>2</td>\n",
       "    </tr>\n",
       "    <tr>\n",
       "      <th>3</th>\n",
       "      <td>recommend take prescribe bottle usually say ta...</td>\n",
       "      <td>positive</td>\n",
       "      <td>2</td>\n",
       "    </tr>\n",
       "    <tr>\n",
       "      <th>4</th>\n",
       "      <td>ampyra 5 day happy new pill first 2 day good s...</td>\n",
       "      <td>neutral</td>\n",
       "      <td>1</td>\n",
       "    </tr>\n",
       "  </tbody>\n",
       "</table>\n",
       "</div>"
      ],
      "text/plain": [
       "                                              review sentiment  \\\n",
       "0  use restasis year see almost progress life red...  positive   \n",
       "1  experience somewhat mixed use implanon nearly ...  positive   \n",
       "2  second implanon would recommend first one okay...  positive   \n",
       "3  recommend take prescribe bottle usually say ta...  positive   \n",
       "4  ampyra 5 day happy new pill first 2 day good s...   neutral   \n",
       "\n",
       "   sentiment_encoded  \n",
       "0                  2  \n",
       "1                  2  \n",
       "2                  2  \n",
       "3                  2  \n",
       "4                  1  "
      ]
     },
     "metadata": {},
     "output_type": "display_data"
    }
   ],
   "source": [
    "display(train_df.head())\n",
    "display(val_df.head())\n",
    "display(test_df.head())"
   ]
  },
  {
   "cell_type": "markdown",
   "id": "5e7f7a76",
   "metadata": {},
   "source": [
    "## Class imbalance solution"
   ]
  },
  {
   "cell_type": "code",
   "execution_count": 28,
   "id": "31235167",
   "metadata": {},
   "outputs": [],
   "source": [
    "# # Manual class weight calculation\n",
    "# # Data: 73638 positive, 23602 negative, 13571 neutral\n",
    "\n",
    "# total_samples = 73638 + 23602 + 13571  # = 110811\n",
    "# n_classes = 3\n",
    "\n",
    "# weight_negative = total_samples / (n_classes * 23602)  # ~1.56\n",
    "# weight_neutral = total_samples / (n_classes * 13571)   # ~2.72\n",
    "# weight_positive = total_samples / (n_classes * 73638)  # ~0.50"
   ]
  },
  {
   "cell_type": "code",
   "execution_count": 30,
   "id": "4e4224e4",
   "metadata": {},
   "outputs": [
    {
     "name": "stdout",
     "output_type": "stream",
     "text": [
      "Class weights: {0: np.float64(1.564994491992204), 1: np.float64(2.721759634514774), 2: np.float64(0.5016024335261685)}\n"
     ]
    }
   ],
   "source": [
    "y_train = train_df['sentiment_encoded']\n",
    "class_weights = compute_class_weight('balanced', classes=np.unique(y_train), y=y_train)\n",
    "\n",
    "class_weight_dict = dict(enumerate(class_weights))\n",
    "print(\"Class weights:\", class_weight_dict) # Use in model.fit(..., class_weight=class_weight_dict) / LinearSVC(class_weight='balanced')\n",
    "\n",
    "sample_weights = np.array([class_weight_dict[label] for label in y_train])"
   ]
  },
  {
   "cell_type": "markdown",
   "id": "452162fb",
   "metadata": {},
   "source": [
    "## Vectorization"
   ]
  },
  {
   "cell_type": "code",
   "execution_count": 31,
   "id": "ee575a31",
   "metadata": {},
   "outputs": [],
   "source": [
    "\n",
    "tfidf = TfidfVectorizer(max_features=8000)\n",
    "X_train = tfidf.fit_transform(train_df['review'])\n",
    "X_val = tfidf.transform(val_df['review'])\n",
    "X_test = tfidf.transform(test_df['review'])\n",
    "\n",
    "y_train = train_df['sentiment_encoded']\n",
    "y_val = val_df['sentiment_encoded']\n",
    "y_test = test_df['sentiment_encoded']"
   ]
  },
  {
   "cell_type": "code",
   "execution_count": 32,
   "id": "180c33cc",
   "metadata": {},
   "outputs": [
    {
     "name": "stdout",
     "output_type": "stream",
     "text": [
      "Samples: 110811\n",
      "Features: 8000\n"
     ]
    }
   ],
   "source": [
    "print(f\"Samples: {X_train.shape[0]}\")  # 110811 entries of review\n",
    "print(f\"Features: {X_train.shape[1]}\") # 5000 features (TF-IDF dimensions)"
   ]
  },
  {
   "cell_type": "markdown",
   "id": "a7a6b394",
   "metadata": {},
   "source": [
    "# Modeling"
   ]
  },
  {
   "cell_type": "markdown",
   "id": "2dc7f9a0",
   "metadata": {},
   "source": [
    "## Traditional ML"
   ]
  },
  {
   "cell_type": "code",
   "execution_count": null,
   "id": "f5cd2fa5",
   "metadata": {},
   "outputs": [],
   "source": [
    "### Models that supports class_weight='balanced'\n",
    "\n",
    "models_A = {\n",
    "    'Logistic Regression': LogisticRegression(\n",
    "        class_weight='balanced', # class_weight=class_weight_dict; Handle class imbalance\n",
    "        random_state=42, \n",
    "        max_iter=1000\n",
    "    ),\n",
    "    \n",
    "    'SVM': LinearSVC(\n",
    "        class_weight='balanced',  \n",
    "        random_state=42\n",
    "    ),\n",
    "    \n",
    "    'Random Forest': RandomForestClassifier(\n",
    "        class_weight='balanced',  \n",
    "        random_state=42, \n",
    "        n_estimators=100\n",
    "    ),\n",
    "}\n",
    "\n",
    "### Models that don't support class_weight='balanced'\n",
    "\n",
    "models_B = {\n",
    "    'Naive Bayes': MultinomialNB(),\n",
    "    \n",
    "    'XGBoost': XGBClassifier(\n",
    "        # Use scale_pos_weight for binary, but for multi-class:\n",
    "        # XGBoost automatically handles imbalance in multi-class\n",
    "        random_state=42\n",
    "    )\n",
    "}"
   ]
  },
  {
   "cell_type": "code",
   "execution_count": null,
   "id": "f5ac657f",
   "metadata": {},
   "outputs": [
    {
     "name": "stdout",
     "output_type": "stream",
     "text": [
      "Logistic Regression: 0.6065\n",
      "SVM: 0.6148\n",
      "Random Forest: 0.7612\n",
      "Naive Bayes: 0.5554\n",
      "XGBoost: 0.6156\n"
     ]
    }
   ],
   "source": [
    "best_model = None\n",
    "best_val_score = 0\n",
    "\n",
    "for name, model in models_A.items():\n",
    "    model.fit(X_train, y_train) #\n",
    "    y_pred = model.predict(X_val)\n",
    "    val_score = f1_score(y_val, y_pred, average='macro')\n",
    "    \n",
    "    print(f\"{name}: {val_score:.4f}\")\n",
    "    \n",
    "    if val_score > best_val_score:\n",
    "        best_model = model\n",
    "        best_val_score = val_score\n",
    "\n",
    "for name, model in models_B.items():\n",
    "    model.fit(X_train, y_train, sample_weight=sample_weights) #\n",
    "    y_pred = model.predict(X_val)\n",
    "    val_score = f1_score(y_val, y_pred, average='macro')\n",
    "    \n",
    "    print(f\"{name}: {val_score:.4f}\")\n",
    "    \n",
    "    if val_score > best_val_score:\n",
    "        best_model = model\n",
    "        best_val_score = val_score"
   ]
  },
  {
   "cell_type": "code",
   "execution_count": null,
   "id": "56a39dfb",
   "metadata": {},
   "outputs": [
    {
     "name": "stdout",
     "output_type": "stream",
     "text": [
      "\n",
      "Best model: RandomForestClassifier\n"
     ]
    }
   ],
   "source": [
    "print(f\"\\nBest model: {type(best_model).__name__}\")"
   ]
  },
  {
   "cell_type": "code",
   "execution_count": null,
   "id": "2a10efb8",
   "metadata": {},
   "outputs": [
    {
     "data": {
      "text/html": [
       "<style>#sk-container-id-1 {\n",
       "  /* Definition of color scheme common for light and dark mode */\n",
       "  --sklearn-color-text: #000;\n",
       "  --sklearn-color-text-muted: #666;\n",
       "  --sklearn-color-line: gray;\n",
       "  /* Definition of color scheme for unfitted estimators */\n",
       "  --sklearn-color-unfitted-level-0: #fff5e6;\n",
       "  --sklearn-color-unfitted-level-1: #f6e4d2;\n",
       "  --sklearn-color-unfitted-level-2: #ffe0b3;\n",
       "  --sklearn-color-unfitted-level-3: chocolate;\n",
       "  /* Definition of color scheme for fitted estimators */\n",
       "  --sklearn-color-fitted-level-0: #f0f8ff;\n",
       "  --sklearn-color-fitted-level-1: #d4ebff;\n",
       "  --sklearn-color-fitted-level-2: #b3dbfd;\n",
       "  --sklearn-color-fitted-level-3: cornflowerblue;\n",
       "\n",
       "  /* Specific color for light theme */\n",
       "  --sklearn-color-text-on-default-background: var(--sg-text-color, var(--theme-code-foreground, var(--jp-content-font-color1, black)));\n",
       "  --sklearn-color-background: var(--sg-background-color, var(--theme-background, var(--jp-layout-color0, white)));\n",
       "  --sklearn-color-border-box: var(--sg-text-color, var(--theme-code-foreground, var(--jp-content-font-color1, black)));\n",
       "  --sklearn-color-icon: #696969;\n",
       "\n",
       "  @media (prefers-color-scheme: dark) {\n",
       "    /* Redefinition of color scheme for dark theme */\n",
       "    --sklearn-color-text-on-default-background: var(--sg-text-color, var(--theme-code-foreground, var(--jp-content-font-color1, white)));\n",
       "    --sklearn-color-background: var(--sg-background-color, var(--theme-background, var(--jp-layout-color0, #111)));\n",
       "    --sklearn-color-border-box: var(--sg-text-color, var(--theme-code-foreground, var(--jp-content-font-color1, white)));\n",
       "    --sklearn-color-icon: #878787;\n",
       "  }\n",
       "}\n",
       "\n",
       "#sk-container-id-1 {\n",
       "  color: var(--sklearn-color-text);\n",
       "}\n",
       "\n",
       "#sk-container-id-1 pre {\n",
       "  padding: 0;\n",
       "}\n",
       "\n",
       "#sk-container-id-1 input.sk-hidden--visually {\n",
       "  border: 0;\n",
       "  clip: rect(1px 1px 1px 1px);\n",
       "  clip: rect(1px, 1px, 1px, 1px);\n",
       "  height: 1px;\n",
       "  margin: -1px;\n",
       "  overflow: hidden;\n",
       "  padding: 0;\n",
       "  position: absolute;\n",
       "  width: 1px;\n",
       "}\n",
       "\n",
       "#sk-container-id-1 div.sk-dashed-wrapped {\n",
       "  border: 1px dashed var(--sklearn-color-line);\n",
       "  margin: 0 0.4em 0.5em 0.4em;\n",
       "  box-sizing: border-box;\n",
       "  padding-bottom: 0.4em;\n",
       "  background-color: var(--sklearn-color-background);\n",
       "}\n",
       "\n",
       "#sk-container-id-1 div.sk-container {\n",
       "  /* jupyter's `normalize.less` sets `[hidden] { display: none; }`\n",
       "     but bootstrap.min.css set `[hidden] { display: none !important; }`\n",
       "     so we also need the `!important` here to be able to override the\n",
       "     default hidden behavior on the sphinx rendered scikit-learn.org.\n",
       "     See: https://github.com/scikit-learn/scikit-learn/issues/21755 */\n",
       "  display: inline-block !important;\n",
       "  position: relative;\n",
       "}\n",
       "\n",
       "#sk-container-id-1 div.sk-text-repr-fallback {\n",
       "  display: none;\n",
       "}\n",
       "\n",
       "div.sk-parallel-item,\n",
       "div.sk-serial,\n",
       "div.sk-item {\n",
       "  /* draw centered vertical line to link estimators */\n",
       "  background-image: linear-gradient(var(--sklearn-color-text-on-default-background), var(--sklearn-color-text-on-default-background));\n",
       "  background-size: 2px 100%;\n",
       "  background-repeat: no-repeat;\n",
       "  background-position: center center;\n",
       "}\n",
       "\n",
       "/* Parallel-specific style estimator block */\n",
       "\n",
       "#sk-container-id-1 div.sk-parallel-item::after {\n",
       "  content: \"\";\n",
       "  width: 100%;\n",
       "  border-bottom: 2px solid var(--sklearn-color-text-on-default-background);\n",
       "  flex-grow: 1;\n",
       "}\n",
       "\n",
       "#sk-container-id-1 div.sk-parallel {\n",
       "  display: flex;\n",
       "  align-items: stretch;\n",
       "  justify-content: center;\n",
       "  background-color: var(--sklearn-color-background);\n",
       "  position: relative;\n",
       "}\n",
       "\n",
       "#sk-container-id-1 div.sk-parallel-item {\n",
       "  display: flex;\n",
       "  flex-direction: column;\n",
       "}\n",
       "\n",
       "#sk-container-id-1 div.sk-parallel-item:first-child::after {\n",
       "  align-self: flex-end;\n",
       "  width: 50%;\n",
       "}\n",
       "\n",
       "#sk-container-id-1 div.sk-parallel-item:last-child::after {\n",
       "  align-self: flex-start;\n",
       "  width: 50%;\n",
       "}\n",
       "\n",
       "#sk-container-id-1 div.sk-parallel-item:only-child::after {\n",
       "  width: 0;\n",
       "}\n",
       "\n",
       "/* Serial-specific style estimator block */\n",
       "\n",
       "#sk-container-id-1 div.sk-serial {\n",
       "  display: flex;\n",
       "  flex-direction: column;\n",
       "  align-items: center;\n",
       "  background-color: var(--sklearn-color-background);\n",
       "  padding-right: 1em;\n",
       "  padding-left: 1em;\n",
       "}\n",
       "\n",
       "\n",
       "/* Toggleable style: style used for estimator/Pipeline/ColumnTransformer box that is\n",
       "clickable and can be expanded/collapsed.\n",
       "- Pipeline and ColumnTransformer use this feature and define the default style\n",
       "- Estimators will overwrite some part of the style using the `sk-estimator` class\n",
       "*/\n",
       "\n",
       "/* Pipeline and ColumnTransformer style (default) */\n",
       "\n",
       "#sk-container-id-1 div.sk-toggleable {\n",
       "  /* Default theme specific background. It is overwritten whether we have a\n",
       "  specific estimator or a Pipeline/ColumnTransformer */\n",
       "  background-color: var(--sklearn-color-background);\n",
       "}\n",
       "\n",
       "/* Toggleable label */\n",
       "#sk-container-id-1 label.sk-toggleable__label {\n",
       "  cursor: pointer;\n",
       "  display: flex;\n",
       "  width: 100%;\n",
       "  margin-bottom: 0;\n",
       "  padding: 0.5em;\n",
       "  box-sizing: border-box;\n",
       "  text-align: center;\n",
       "  align-items: start;\n",
       "  justify-content: space-between;\n",
       "  gap: 0.5em;\n",
       "}\n",
       "\n",
       "#sk-container-id-1 label.sk-toggleable__label .caption {\n",
       "  font-size: 0.6rem;\n",
       "  font-weight: lighter;\n",
       "  color: var(--sklearn-color-text-muted);\n",
       "}\n",
       "\n",
       "#sk-container-id-1 label.sk-toggleable__label-arrow:before {\n",
       "  /* Arrow on the left of the label */\n",
       "  content: \"▸\";\n",
       "  float: left;\n",
       "  margin-right: 0.25em;\n",
       "  color: var(--sklearn-color-icon);\n",
       "}\n",
       "\n",
       "#sk-container-id-1 label.sk-toggleable__label-arrow:hover:before {\n",
       "  color: var(--sklearn-color-text);\n",
       "}\n",
       "\n",
       "/* Toggleable content - dropdown */\n",
       "\n",
       "#sk-container-id-1 div.sk-toggleable__content {\n",
       "  display: none;\n",
       "  text-align: left;\n",
       "  /* unfitted */\n",
       "  background-color: var(--sklearn-color-unfitted-level-0);\n",
       "}\n",
       "\n",
       "#sk-container-id-1 div.sk-toggleable__content.fitted {\n",
       "  /* fitted */\n",
       "  background-color: var(--sklearn-color-fitted-level-0);\n",
       "}\n",
       "\n",
       "#sk-container-id-1 div.sk-toggleable__content pre {\n",
       "  margin: 0.2em;\n",
       "  border-radius: 0.25em;\n",
       "  color: var(--sklearn-color-text);\n",
       "  /* unfitted */\n",
       "  background-color: var(--sklearn-color-unfitted-level-0);\n",
       "}\n",
       "\n",
       "#sk-container-id-1 div.sk-toggleable__content.fitted pre {\n",
       "  /* unfitted */\n",
       "  background-color: var(--sklearn-color-fitted-level-0);\n",
       "}\n",
       "\n",
       "#sk-container-id-1 input.sk-toggleable__control:checked~div.sk-toggleable__content {\n",
       "  /* Expand drop-down */\n",
       "  display: block;\n",
       "  width: 100%;\n",
       "  overflow: visible;\n",
       "}\n",
       "\n",
       "#sk-container-id-1 input.sk-toggleable__control:checked~label.sk-toggleable__label-arrow:before {\n",
       "  content: \"▾\";\n",
       "}\n",
       "\n",
       "/* Pipeline/ColumnTransformer-specific style */\n",
       "\n",
       "#sk-container-id-1 div.sk-label input.sk-toggleable__control:checked~label.sk-toggleable__label {\n",
       "  color: var(--sklearn-color-text);\n",
       "  background-color: var(--sklearn-color-unfitted-level-2);\n",
       "}\n",
       "\n",
       "#sk-container-id-1 div.sk-label.fitted input.sk-toggleable__control:checked~label.sk-toggleable__label {\n",
       "  background-color: var(--sklearn-color-fitted-level-2);\n",
       "}\n",
       "\n",
       "/* Estimator-specific style */\n",
       "\n",
       "/* Colorize estimator box */\n",
       "#sk-container-id-1 div.sk-estimator input.sk-toggleable__control:checked~label.sk-toggleable__label {\n",
       "  /* unfitted */\n",
       "  background-color: var(--sklearn-color-unfitted-level-2);\n",
       "}\n",
       "\n",
       "#sk-container-id-1 div.sk-estimator.fitted input.sk-toggleable__control:checked~label.sk-toggleable__label {\n",
       "  /* fitted */\n",
       "  background-color: var(--sklearn-color-fitted-level-2);\n",
       "}\n",
       "\n",
       "#sk-container-id-1 div.sk-label label.sk-toggleable__label,\n",
       "#sk-container-id-1 div.sk-label label {\n",
       "  /* The background is the default theme color */\n",
       "  color: var(--sklearn-color-text-on-default-background);\n",
       "}\n",
       "\n",
       "/* On hover, darken the color of the background */\n",
       "#sk-container-id-1 div.sk-label:hover label.sk-toggleable__label {\n",
       "  color: var(--sklearn-color-text);\n",
       "  background-color: var(--sklearn-color-unfitted-level-2);\n",
       "}\n",
       "\n",
       "/* Label box, darken color on hover, fitted */\n",
       "#sk-container-id-1 div.sk-label.fitted:hover label.sk-toggleable__label.fitted {\n",
       "  color: var(--sklearn-color-text);\n",
       "  background-color: var(--sklearn-color-fitted-level-2);\n",
       "}\n",
       "\n",
       "/* Estimator label */\n",
       "\n",
       "#sk-container-id-1 div.sk-label label {\n",
       "  font-family: monospace;\n",
       "  font-weight: bold;\n",
       "  display: inline-block;\n",
       "  line-height: 1.2em;\n",
       "}\n",
       "\n",
       "#sk-container-id-1 div.sk-label-container {\n",
       "  text-align: center;\n",
       "}\n",
       "\n",
       "/* Estimator-specific */\n",
       "#sk-container-id-1 div.sk-estimator {\n",
       "  font-family: monospace;\n",
       "  border: 1px dotted var(--sklearn-color-border-box);\n",
       "  border-radius: 0.25em;\n",
       "  box-sizing: border-box;\n",
       "  margin-bottom: 0.5em;\n",
       "  /* unfitted */\n",
       "  background-color: var(--sklearn-color-unfitted-level-0);\n",
       "}\n",
       "\n",
       "#sk-container-id-1 div.sk-estimator.fitted {\n",
       "  /* fitted */\n",
       "  background-color: var(--sklearn-color-fitted-level-0);\n",
       "}\n",
       "\n",
       "/* on hover */\n",
       "#sk-container-id-1 div.sk-estimator:hover {\n",
       "  /* unfitted */\n",
       "  background-color: var(--sklearn-color-unfitted-level-2);\n",
       "}\n",
       "\n",
       "#sk-container-id-1 div.sk-estimator.fitted:hover {\n",
       "  /* fitted */\n",
       "  background-color: var(--sklearn-color-fitted-level-2);\n",
       "}\n",
       "\n",
       "/* Specification for estimator info (e.g. \"i\" and \"?\") */\n",
       "\n",
       "/* Common style for \"i\" and \"?\" */\n",
       "\n",
       ".sk-estimator-doc-link,\n",
       "a:link.sk-estimator-doc-link,\n",
       "a:visited.sk-estimator-doc-link {\n",
       "  float: right;\n",
       "  font-size: smaller;\n",
       "  line-height: 1em;\n",
       "  font-family: monospace;\n",
       "  background-color: var(--sklearn-color-background);\n",
       "  border-radius: 1em;\n",
       "  height: 1em;\n",
       "  width: 1em;\n",
       "  text-decoration: none !important;\n",
       "  margin-left: 0.5em;\n",
       "  text-align: center;\n",
       "  /* unfitted */\n",
       "  border: var(--sklearn-color-unfitted-level-1) 1pt solid;\n",
       "  color: var(--sklearn-color-unfitted-level-1);\n",
       "}\n",
       "\n",
       ".sk-estimator-doc-link.fitted,\n",
       "a:link.sk-estimator-doc-link.fitted,\n",
       "a:visited.sk-estimator-doc-link.fitted {\n",
       "  /* fitted */\n",
       "  border: var(--sklearn-color-fitted-level-1) 1pt solid;\n",
       "  color: var(--sklearn-color-fitted-level-1);\n",
       "}\n",
       "\n",
       "/* On hover */\n",
       "div.sk-estimator:hover .sk-estimator-doc-link:hover,\n",
       ".sk-estimator-doc-link:hover,\n",
       "div.sk-label-container:hover .sk-estimator-doc-link:hover,\n",
       ".sk-estimator-doc-link:hover {\n",
       "  /* unfitted */\n",
       "  background-color: var(--sklearn-color-unfitted-level-3);\n",
       "  color: var(--sklearn-color-background);\n",
       "  text-decoration: none;\n",
       "}\n",
       "\n",
       "div.sk-estimator.fitted:hover .sk-estimator-doc-link.fitted:hover,\n",
       ".sk-estimator-doc-link.fitted:hover,\n",
       "div.sk-label-container:hover .sk-estimator-doc-link.fitted:hover,\n",
       ".sk-estimator-doc-link.fitted:hover {\n",
       "  /* fitted */\n",
       "  background-color: var(--sklearn-color-fitted-level-3);\n",
       "  color: var(--sklearn-color-background);\n",
       "  text-decoration: none;\n",
       "}\n",
       "\n",
       "/* Span, style for the box shown on hovering the info icon */\n",
       ".sk-estimator-doc-link span {\n",
       "  display: none;\n",
       "  z-index: 9999;\n",
       "  position: relative;\n",
       "  font-weight: normal;\n",
       "  right: .2ex;\n",
       "  padding: .5ex;\n",
       "  margin: .5ex;\n",
       "  width: min-content;\n",
       "  min-width: 20ex;\n",
       "  max-width: 50ex;\n",
       "  color: var(--sklearn-color-text);\n",
       "  box-shadow: 2pt 2pt 4pt #999;\n",
       "  /* unfitted */\n",
       "  background: var(--sklearn-color-unfitted-level-0);\n",
       "  border: .5pt solid var(--sklearn-color-unfitted-level-3);\n",
       "}\n",
       "\n",
       ".sk-estimator-doc-link.fitted span {\n",
       "  /* fitted */\n",
       "  background: var(--sklearn-color-fitted-level-0);\n",
       "  border: var(--sklearn-color-fitted-level-3);\n",
       "}\n",
       "\n",
       ".sk-estimator-doc-link:hover span {\n",
       "  display: block;\n",
       "}\n",
       "\n",
       "/* \"?\"-specific style due to the `<a>` HTML tag */\n",
       "\n",
       "#sk-container-id-1 a.estimator_doc_link {\n",
       "  float: right;\n",
       "  font-size: 1rem;\n",
       "  line-height: 1em;\n",
       "  font-family: monospace;\n",
       "  background-color: var(--sklearn-color-background);\n",
       "  border-radius: 1rem;\n",
       "  height: 1rem;\n",
       "  width: 1rem;\n",
       "  text-decoration: none;\n",
       "  /* unfitted */\n",
       "  color: var(--sklearn-color-unfitted-level-1);\n",
       "  border: var(--sklearn-color-unfitted-level-1) 1pt solid;\n",
       "}\n",
       "\n",
       "#sk-container-id-1 a.estimator_doc_link.fitted {\n",
       "  /* fitted */\n",
       "  border: var(--sklearn-color-fitted-level-1) 1pt solid;\n",
       "  color: var(--sklearn-color-fitted-level-1);\n",
       "}\n",
       "\n",
       "/* On hover */\n",
       "#sk-container-id-1 a.estimator_doc_link:hover {\n",
       "  /* unfitted */\n",
       "  background-color: var(--sklearn-color-unfitted-level-3);\n",
       "  color: var(--sklearn-color-background);\n",
       "  text-decoration: none;\n",
       "}\n",
       "\n",
       "#sk-container-id-1 a.estimator_doc_link.fitted:hover {\n",
       "  /* fitted */\n",
       "  background-color: var(--sklearn-color-fitted-level-3);\n",
       "}\n",
       "\n",
       ".estimator-table summary {\n",
       "    padding: .5rem;\n",
       "    font-family: monospace;\n",
       "    cursor: pointer;\n",
       "}\n",
       "\n",
       ".estimator-table details[open] {\n",
       "    padding-left: 0.1rem;\n",
       "    padding-right: 0.1rem;\n",
       "    padding-bottom: 0.3rem;\n",
       "}\n",
       "\n",
       ".estimator-table .parameters-table {\n",
       "    margin-left: auto !important;\n",
       "    margin-right: auto !important;\n",
       "}\n",
       "\n",
       ".estimator-table .parameters-table tr:nth-child(odd) {\n",
       "    background-color: #fff;\n",
       "}\n",
       "\n",
       ".estimator-table .parameters-table tr:nth-child(even) {\n",
       "    background-color: #f6f6f6;\n",
       "}\n",
       "\n",
       ".estimator-table .parameters-table tr:hover {\n",
       "    background-color: #e0e0e0;\n",
       "}\n",
       "\n",
       ".estimator-table table td {\n",
       "    border: 1px solid rgba(106, 105, 104, 0.232);\n",
       "}\n",
       "\n",
       ".user-set td {\n",
       "    color:rgb(255, 94, 0);\n",
       "    text-align: left;\n",
       "}\n",
       "\n",
       ".user-set td.value pre {\n",
       "    color:rgb(255, 94, 0) !important;\n",
       "    background-color: transparent !important;\n",
       "}\n",
       "\n",
       ".default td {\n",
       "    color: black;\n",
       "    text-align: left;\n",
       "}\n",
       "\n",
       ".user-set td i,\n",
       ".default td i {\n",
       "    color: black;\n",
       "}\n",
       "\n",
       ".copy-paste-icon {\n",
       "    background-image: url(data:image/svg+xml;base64,PHN2ZyB4bWxucz0iaHR0cDovL3d3dy53My5vcmcvMjAwMC9zdmciIHZpZXdCb3g9IjAgMCA0NDggNTEyIj48IS0tIUZvbnQgQXdlc29tZSBGcmVlIDYuNy4yIGJ5IEBmb250YXdlc29tZSAtIGh0dHBzOi8vZm9udGF3ZXNvbWUuY29tIExpY2Vuc2UgLSBodHRwczovL2ZvbnRhd2Vzb21lLmNvbS9saWNlbnNlL2ZyZWUgQ29weXJpZ2h0IDIwMjUgRm9udGljb25zLCBJbmMuLS0+PHBhdGggZD0iTTIwOCAwTDMzMi4xIDBjMTIuNyAwIDI0LjkgNS4xIDMzLjkgMTQuMWw2Ny45IDY3LjljOSA5IDE0LjEgMjEuMiAxNC4xIDMzLjlMNDQ4IDMzNmMwIDI2LjUtMjEuNSA0OC00OCA0OGwtMTkyIDBjLTI2LjUgMC00OC0yMS41LTQ4LTQ4bDAtMjg4YzAtMjYuNSAyMS41LTQ4IDQ4LTQ4ek00OCAxMjhsODAgMCAwIDY0LTY0IDAgMCAyNTYgMTkyIDAgMC0zMiA2NCAwIDAgNDhjMCAyNi41LTIxLjUgNDgtNDggNDhMNDggNTEyYy0yNi41IDAtNDgtMjEuNS00OC00OEwwIDE3NmMwLTI2LjUgMjEuNS00OCA0OC00OHoiLz48L3N2Zz4=);\n",
       "    background-repeat: no-repeat;\n",
       "    background-size: 14px 14px;\n",
       "    background-position: 0;\n",
       "    display: inline-block;\n",
       "    width: 14px;\n",
       "    height: 14px;\n",
       "    cursor: pointer;\n",
       "}\n",
       "</style><body><div id=\"sk-container-id-1\" class=\"sk-top-container\"><div class=\"sk-text-repr-fallback\"><pre>RandomForestClassifier(class_weight=&#x27;balanced&#x27;, random_state=42)</pre><b>In a Jupyter environment, please rerun this cell to show the HTML representation or trust the notebook. <br />On GitHub, the HTML representation is unable to render, please try loading this page with nbviewer.org.</b></div><div class=\"sk-container\" hidden><div class=\"sk-item\"><div class=\"sk-estimator fitted sk-toggleable\"><input class=\"sk-toggleable__control sk-hidden--visually\" id=\"sk-estimator-id-1\" type=\"checkbox\" checked><label for=\"sk-estimator-id-1\" class=\"sk-toggleable__label fitted sk-toggleable__label-arrow\"><div><div>RandomForestClassifier</div></div><div><a class=\"sk-estimator-doc-link fitted\" rel=\"noreferrer\" target=\"_blank\" href=\"https://scikit-learn.org/1.7/modules/generated/sklearn.ensemble.RandomForestClassifier.html\">?<span>Documentation for RandomForestClassifier</span></a><span class=\"sk-estimator-doc-link fitted\">i<span>Fitted</span></span></div></label><div class=\"sk-toggleable__content fitted\" data-param-prefix=\"\">\n",
       "        <div class=\"estimator-table\">\n",
       "            <details>\n",
       "                <summary>Parameters</summary>\n",
       "                <table class=\"parameters-table\">\n",
       "                  <tbody>\n",
       "                    \n",
       "        <tr class=\"default\">\n",
       "            <td><i class=\"copy-paste-icon\"\n",
       "                 onclick=\"copyToClipboard('n_estimators',\n",
       "                          this.parentElement.nextElementSibling)\"\n",
       "            ></i></td>\n",
       "            <td class=\"param\">n_estimators&nbsp;</td>\n",
       "            <td class=\"value\">100</td>\n",
       "        </tr>\n",
       "    \n",
       "\n",
       "        <tr class=\"default\">\n",
       "            <td><i class=\"copy-paste-icon\"\n",
       "                 onclick=\"copyToClipboard('criterion',\n",
       "                          this.parentElement.nextElementSibling)\"\n",
       "            ></i></td>\n",
       "            <td class=\"param\">criterion&nbsp;</td>\n",
       "            <td class=\"value\">&#x27;gini&#x27;</td>\n",
       "        </tr>\n",
       "    \n",
       "\n",
       "        <tr class=\"default\">\n",
       "            <td><i class=\"copy-paste-icon\"\n",
       "                 onclick=\"copyToClipboard('max_depth',\n",
       "                          this.parentElement.nextElementSibling)\"\n",
       "            ></i></td>\n",
       "            <td class=\"param\">max_depth&nbsp;</td>\n",
       "            <td class=\"value\">None</td>\n",
       "        </tr>\n",
       "    \n",
       "\n",
       "        <tr class=\"default\">\n",
       "            <td><i class=\"copy-paste-icon\"\n",
       "                 onclick=\"copyToClipboard('min_samples_split',\n",
       "                          this.parentElement.nextElementSibling)\"\n",
       "            ></i></td>\n",
       "            <td class=\"param\">min_samples_split&nbsp;</td>\n",
       "            <td class=\"value\">2</td>\n",
       "        </tr>\n",
       "    \n",
       "\n",
       "        <tr class=\"default\">\n",
       "            <td><i class=\"copy-paste-icon\"\n",
       "                 onclick=\"copyToClipboard('min_samples_leaf',\n",
       "                          this.parentElement.nextElementSibling)\"\n",
       "            ></i></td>\n",
       "            <td class=\"param\">min_samples_leaf&nbsp;</td>\n",
       "            <td class=\"value\">1</td>\n",
       "        </tr>\n",
       "    \n",
       "\n",
       "        <tr class=\"default\">\n",
       "            <td><i class=\"copy-paste-icon\"\n",
       "                 onclick=\"copyToClipboard('min_weight_fraction_leaf',\n",
       "                          this.parentElement.nextElementSibling)\"\n",
       "            ></i></td>\n",
       "            <td class=\"param\">min_weight_fraction_leaf&nbsp;</td>\n",
       "            <td class=\"value\">0.0</td>\n",
       "        </tr>\n",
       "    \n",
       "\n",
       "        <tr class=\"default\">\n",
       "            <td><i class=\"copy-paste-icon\"\n",
       "                 onclick=\"copyToClipboard('max_features',\n",
       "                          this.parentElement.nextElementSibling)\"\n",
       "            ></i></td>\n",
       "            <td class=\"param\">max_features&nbsp;</td>\n",
       "            <td class=\"value\">&#x27;sqrt&#x27;</td>\n",
       "        </tr>\n",
       "    \n",
       "\n",
       "        <tr class=\"default\">\n",
       "            <td><i class=\"copy-paste-icon\"\n",
       "                 onclick=\"copyToClipboard('max_leaf_nodes',\n",
       "                          this.parentElement.nextElementSibling)\"\n",
       "            ></i></td>\n",
       "            <td class=\"param\">max_leaf_nodes&nbsp;</td>\n",
       "            <td class=\"value\">None</td>\n",
       "        </tr>\n",
       "    \n",
       "\n",
       "        <tr class=\"default\">\n",
       "            <td><i class=\"copy-paste-icon\"\n",
       "                 onclick=\"copyToClipboard('min_impurity_decrease',\n",
       "                          this.parentElement.nextElementSibling)\"\n",
       "            ></i></td>\n",
       "            <td class=\"param\">min_impurity_decrease&nbsp;</td>\n",
       "            <td class=\"value\">0.0</td>\n",
       "        </tr>\n",
       "    \n",
       "\n",
       "        <tr class=\"default\">\n",
       "            <td><i class=\"copy-paste-icon\"\n",
       "                 onclick=\"copyToClipboard('bootstrap',\n",
       "                          this.parentElement.nextElementSibling)\"\n",
       "            ></i></td>\n",
       "            <td class=\"param\">bootstrap&nbsp;</td>\n",
       "            <td class=\"value\">True</td>\n",
       "        </tr>\n",
       "    \n",
       "\n",
       "        <tr class=\"default\">\n",
       "            <td><i class=\"copy-paste-icon\"\n",
       "                 onclick=\"copyToClipboard('oob_score',\n",
       "                          this.parentElement.nextElementSibling)\"\n",
       "            ></i></td>\n",
       "            <td class=\"param\">oob_score&nbsp;</td>\n",
       "            <td class=\"value\">False</td>\n",
       "        </tr>\n",
       "    \n",
       "\n",
       "        <tr class=\"default\">\n",
       "            <td><i class=\"copy-paste-icon\"\n",
       "                 onclick=\"copyToClipboard('n_jobs',\n",
       "                          this.parentElement.nextElementSibling)\"\n",
       "            ></i></td>\n",
       "            <td class=\"param\">n_jobs&nbsp;</td>\n",
       "            <td class=\"value\">None</td>\n",
       "        </tr>\n",
       "    \n",
       "\n",
       "        <tr class=\"user-set\">\n",
       "            <td><i class=\"copy-paste-icon\"\n",
       "                 onclick=\"copyToClipboard('random_state',\n",
       "                          this.parentElement.nextElementSibling)\"\n",
       "            ></i></td>\n",
       "            <td class=\"param\">random_state&nbsp;</td>\n",
       "            <td class=\"value\">42</td>\n",
       "        </tr>\n",
       "    \n",
       "\n",
       "        <tr class=\"default\">\n",
       "            <td><i class=\"copy-paste-icon\"\n",
       "                 onclick=\"copyToClipboard('verbose',\n",
       "                          this.parentElement.nextElementSibling)\"\n",
       "            ></i></td>\n",
       "            <td class=\"param\">verbose&nbsp;</td>\n",
       "            <td class=\"value\">0</td>\n",
       "        </tr>\n",
       "    \n",
       "\n",
       "        <tr class=\"default\">\n",
       "            <td><i class=\"copy-paste-icon\"\n",
       "                 onclick=\"copyToClipboard('warm_start',\n",
       "                          this.parentElement.nextElementSibling)\"\n",
       "            ></i></td>\n",
       "            <td class=\"param\">warm_start&nbsp;</td>\n",
       "            <td class=\"value\">False</td>\n",
       "        </tr>\n",
       "    \n",
       "\n",
       "        <tr class=\"user-set\">\n",
       "            <td><i class=\"copy-paste-icon\"\n",
       "                 onclick=\"copyToClipboard('class_weight',\n",
       "                          this.parentElement.nextElementSibling)\"\n",
       "            ></i></td>\n",
       "            <td class=\"param\">class_weight&nbsp;</td>\n",
       "            <td class=\"value\">&#x27;balanced&#x27;</td>\n",
       "        </tr>\n",
       "    \n",
       "\n",
       "        <tr class=\"default\">\n",
       "            <td><i class=\"copy-paste-icon\"\n",
       "                 onclick=\"copyToClipboard('ccp_alpha',\n",
       "                          this.parentElement.nextElementSibling)\"\n",
       "            ></i></td>\n",
       "            <td class=\"param\">ccp_alpha&nbsp;</td>\n",
       "            <td class=\"value\">0.0</td>\n",
       "        </tr>\n",
       "    \n",
       "\n",
       "        <tr class=\"default\">\n",
       "            <td><i class=\"copy-paste-icon\"\n",
       "                 onclick=\"copyToClipboard('max_samples',\n",
       "                          this.parentElement.nextElementSibling)\"\n",
       "            ></i></td>\n",
       "            <td class=\"param\">max_samples&nbsp;</td>\n",
       "            <td class=\"value\">None</td>\n",
       "        </tr>\n",
       "    \n",
       "\n",
       "        <tr class=\"default\">\n",
       "            <td><i class=\"copy-paste-icon\"\n",
       "                 onclick=\"copyToClipboard('monotonic_cst',\n",
       "                          this.parentElement.nextElementSibling)\"\n",
       "            ></i></td>\n",
       "            <td class=\"param\">monotonic_cst&nbsp;</td>\n",
       "            <td class=\"value\">None</td>\n",
       "        </tr>\n",
       "    \n",
       "                  </tbody>\n",
       "                </table>\n",
       "            </details>\n",
       "        </div>\n",
       "    </div></div></div></div></div><script>function copyToClipboard(text, element) {\n",
       "    // Get the parameter prefix from the closest toggleable content\n",
       "    const toggleableContent = element.closest('.sk-toggleable__content');\n",
       "    const paramPrefix = toggleableContent ? toggleableContent.dataset.paramPrefix : '';\n",
       "    const fullParamName = paramPrefix ? `${paramPrefix}${text}` : text;\n",
       "\n",
       "    const originalStyle = element.style;\n",
       "    const computedStyle = window.getComputedStyle(element);\n",
       "    const originalWidth = computedStyle.width;\n",
       "    const originalHTML = element.innerHTML.replace('Copied!', '');\n",
       "\n",
       "    navigator.clipboard.writeText(fullParamName)\n",
       "        .then(() => {\n",
       "            element.style.width = originalWidth;\n",
       "            element.style.color = 'green';\n",
       "            element.innerHTML = \"Copied!\";\n",
       "\n",
       "            setTimeout(() => {\n",
       "                element.innerHTML = originalHTML;\n",
       "                element.style = originalStyle;\n",
       "            }, 2000);\n",
       "        })\n",
       "        .catch(err => {\n",
       "            console.error('Failed to copy:', err);\n",
       "            element.style.color = 'red';\n",
       "            element.innerHTML = \"Failed!\";\n",
       "            setTimeout(() => {\n",
       "                element.innerHTML = originalHTML;\n",
       "                element.style = originalStyle;\n",
       "            }, 2000);\n",
       "        });\n",
       "    return false;\n",
       "}\n",
       "\n",
       "document.querySelectorAll('.fa-regular.fa-copy').forEach(function(element) {\n",
       "    const toggleableContent = element.closest('.sk-toggleable__content');\n",
       "    const paramPrefix = toggleableContent ? toggleableContent.dataset.paramPrefix : '';\n",
       "    const paramName = element.parentElement.nextElementSibling.textContent.trim();\n",
       "    const fullParamName = paramPrefix ? `${paramPrefix}${paramName}` : paramName;\n",
       "\n",
       "    element.setAttribute('title', fullParamName);\n",
       "});\n",
       "</script></body>"
      ],
      "text/plain": [
       "RandomForestClassifier(class_weight='balanced', random_state=42)"
      ]
     },
     "execution_count": 35,
     "metadata": {},
     "output_type": "execute_result"
    }
   ],
   "source": [
    "rf = RandomForestClassifier(class_weight='balanced', random_state=42, n_estimators=100)\n",
    "\n",
    "rf.fit(X_train, y_train, sample_weight=sample_weights)"
   ]
  },
  {
   "cell_type": "code",
   "execution_count": null,
   "id": "a5979fdd",
   "metadata": {},
   "outputs": [],
   "source": [
    "y_pred = rf.predict(X_val)"
   ]
  },
  {
   "cell_type": "code",
   "execution_count": null,
   "id": "fe50a677",
   "metadata": {},
   "outputs": [
    {
     "data": {
      "text/plain": [
       "array([2, 1, 2, ..., 2, 0, 2], shape=(27703,))"
      ]
     },
     "execution_count": 37,
     "metadata": {},
     "output_type": "execute_result"
    }
   ],
   "source": [
    "y_pred"
   ]
  },
  {
   "cell_type": "code",
   "execution_count": null,
   "id": "fec6759a",
   "metadata": {},
   "outputs": [
    {
     "data": {
      "image/png": "[encoded data removed]",
      "text/plain": [
       "<Figure size 600x500 with 2 Axes>"
      ]
     },
     "metadata": {},
     "output_type": "display_data"
    },
    {
     "name": "stdout",
     "output_type": "stream",
     "text": [
      "Confusion matrix\n",
      "              precision    recall  f1-score   support\n",
      "\n",
      "    negative       0.95      0.58      0.72      5834\n",
      "     neutral       0.99      0.49      0.65      3525\n",
      "    positive       0.81      0.99      0.90     18344\n",
      "\n",
      "    accuracy                           0.84     27703\n",
      "   macro avg       0.92      0.69      0.76     27703\n",
      "weighted avg       0.87      0.84      0.83     27703\n",
      "\n",
      "Accuracy: 84.36%\n",
      "Precision (Macro): 91.87%\n",
      "Recall (Macro): 68.84%\n",
      "F1 Score (Macro): 75.73%\n"
     ]
    }
   ],
   "source": [
    "rf_cm = pd.DataFrame(data=confusion_matrix(y_val, y_pred),\n",
    "                      columns=['Negative', 'Neutral', 'Positive'],\n",
    "                      index=['Negative', 'Neutral', 'Positive'])\n",
    "\n",
    "plt.figure(figsize = (6, 5))\n",
    "plt.title('Random Forest Confusion Matrix')\n",
    "sns.heatmap(rf_cm, annot=True, fmt='d', cmap=\"Blues\")\n",
    "plt.tight_layout()\n",
    "plt.xlabel('Predicted')\n",
    "plt.ylabel('True')\n",
    "plt.show()\n",
    "\n",
    "print('Confusion matrix')\n",
    "print(classification_report(y_val, y_pred, target_names=['negative', 'neutral', 'positive']))\n",
    "\n",
    "# Multi-class metrics\n",
    "print(\"Accuracy: {:.2f}%\".format(100 * accuracy_score(y_val, y_pred)))\n",
    "print(\"Precision (Macro): {:.2f}%\".format(100 * precision_score(y_val, y_pred, average='macro')))\n",
    "print(\"Recall (Macro): {:.2f}%\".format(100 * recall_score(y_val, y_pred, average='macro')))\n",
    "print(\"F1 Score (Macro): {:.2f}%\".format(100 * f1_score(y_val, y_pred, average='macro')))"
   ]
  },
  {
   "cell_type": "markdown",
   "id": "40d74b5c",
   "metadata": {},
   "source": [
    "## Deep learning - RNN"
   ]
  },
  {
   "cell_type": "code",
   "execution_count": 34,
   "id": "b4ed5f9b",
   "metadata": {},
   "outputs": [],
   "source": [
    "# Tokenization and padding\n",
    "max_words = 10000\n",
    "max_len = 150\n",
    "tokenizer = Tokenizer(num_words=max_words)\n",
    "tokenizer.fit_on_texts(train_df['review'])\n",
    "X_train = pad_sequences(tokenizer.texts_to_sequences(train_df['review']), maxlen=max_len)\n",
    "X_val = pad_sequences(tokenizer.texts_to_sequences(val_df['review']), maxlen=max_len)\n",
    "X_test = pad_sequences(tokenizer.texts_to_sequences(test_df['review']), maxlen=max_len)"
   ]
  },
  {
   "cell_type": "code",
   "execution_count": 35,
   "id": "20d024c1",
   "metadata": {},
   "outputs": [
    {
     "name": "stdout",
     "output_type": "stream",
     "text": [
      "X_train shape: (110811, 150)\n",
      "X_val shape: (27703, 150)\n",
      "X_test shape: (46108, 150)\n"
     ]
    }
   ],
   "source": [
    "print(\"X_train shape:\", X_train.shape)\n",
    "print(\"X_val shape:\", X_val.shape)\n",
    "print(\"X_test shape:\", X_test.shape)"
   ]
  },
  {
   "cell_type": "code",
   "execution_count": 33,
   "id": "c3048d87",
   "metadata": {},
   "outputs": [
    {
     "data": {
      "text/plain": [
       "dtype('int64')"
      ]
     },
     "execution_count": 33,
     "metadata": {},
     "output_type": "execute_result"
    }
   ],
   "source": [
    "y_train.dtype"
   ]
  },
  {
   "cell_type": "code",
   "execution_count": 43,
   "id": "79361174",
   "metadata": {},
   "outputs": [
    {
     "name": "stdout",
     "output_type": "stream",
     "text": [
      "Epoch 1/15\n"
     ]
    },
    {
     "name": "stderr",
     "output_type": "stream",
     "text": [
      "c:\\Users\\chun\\Desktop\\Projects\\uv_NLP_SentimentAnalysis_OnDrug\\.venv\\Lib\\site-packages\\keras\\src\\layers\\core\\embedding.py:97: UserWarning: Argument `input_length` is deprecated. Just remove it.\n",
      "  warnings.warn(\n"
     ]
    },
    {
     "name": "stdout",
     "output_type": "stream",
     "text": [
      "\u001b[1m3694/3694\u001b[0m \u001b[32m━━━━━━━━━━━━━━━━━━━━\u001b[0m\u001b[37m\u001b[0m \u001b[1m191s\u001b[0m 51ms/step - accuracy: 0.6538 - loss: 0.8460 - val_accuracy: 0.6873 - val_loss: 0.7490\n",
      "Epoch 2/15\n",
      "\u001b[1m3694/3694\u001b[0m \u001b[32m━━━━━━━━━━━━━━━━━━━━\u001b[0m\u001b[37m\u001b[0m \u001b[1m191s\u001b[0m 52ms/step - accuracy: 0.7272 - loss: 0.6941 - val_accuracy: 0.7125 - val_loss: 0.6740\n",
      "Epoch 3/15\n",
      "\u001b[1m3694/3694\u001b[0m \u001b[32m━━━━━━━━━━━━━━━━━━━━\u001b[0m\u001b[37m\u001b[0m \u001b[1m185s\u001b[0m 50ms/step - accuracy: 0.7771 - loss: 0.5752 - val_accuracy: 0.7357 - val_loss: 0.6473\n",
      "Epoch 4/15\n",
      "\u001b[1m3694/3694\u001b[0m \u001b[32m━━━━━━━━━━━━━━━━━━━━\u001b[0m\u001b[37m\u001b[0m \u001b[1m201s\u001b[0m 54ms/step - accuracy: 0.8241 - loss: 0.4592 - val_accuracy: 0.7754 - val_loss: 0.6060\n",
      "Epoch 5/15\n",
      "\u001b[1m3694/3694\u001b[0m \u001b[32m━━━━━━━━━━━━━━━━━━━━\u001b[0m\u001b[37m\u001b[0m \u001b[1m198s\u001b[0m 54ms/step - accuracy: 0.8601 - loss: 0.3618 - val_accuracy: 0.7807 - val_loss: 0.6303\n",
      "Epoch 6/15\n",
      "\u001b[1m3694/3694\u001b[0m \u001b[32m━━━━━━━━━━━━━━━━━━━━\u001b[0m\u001b[37m\u001b[0m \u001b[1m188s\u001b[0m 51ms/step - accuracy: 0.8906 - loss: 0.2821 - val_accuracy: 0.7746 - val_loss: 0.7033\n",
      "Epoch 7/15\n",
      "\u001b[1m3694/3694\u001b[0m \u001b[32m━━━━━━━━━━━━━━━━━━━━\u001b[0m\u001b[37m\u001b[0m \u001b[1m204s\u001b[0m 55ms/step - accuracy: 0.9154 - loss: 0.2163 - val_accuracy: 0.7942 - val_loss: 0.7042\n"
     ]
    }
   ],
   "source": [
    "bilstm = Sequential([\n",
    "    Embedding(max_words, 128, input_length=max_len),\n",
    "    Bidirectional(LSTM(64)),\n",
    "    Dense(3, activation='softmax')\n",
    "])\n",
    "\n",
    "bilstm.compile(\n",
    "    loss='sparse_categorical_crossentropy', \n",
    "    optimizer='adam', \n",
    "    metrics=['accuracy'])\n",
    "\n",
    "early_stop = EarlyStopping(patience=3, restore_best_weights=True)\n",
    "\n",
    "bilstm_history = bilstm.fit(\n",
    "    X_train, \n",
    "    y_train, \n",
    "    validation_data=(X_val, y_val), \n",
    "    epochs=15, \n",
    "    batch_size=30, \n",
    "    callbacks=[early_stop],\n",
    "    class_weight=class_weight_dict,\n",
    "    verbose=1\n",
    ")"
   ]
  },
  {
   "cell_type": "code",
   "execution_count": 44,
   "id": "f8d4e08e",
   "metadata": {},
   "outputs": [
    {
     "name": "stdout",
     "output_type": "stream",
     "text": [
      "\u001b[1m866/866\u001b[0m \u001b[32m━━━━━━━━━━━━━━━━━━━━\u001b[0m\u001b[37m\u001b[0m \u001b[1m13s\u001b[0m 15ms/step\n"
     ]
    }
   ],
   "source": [
    "y_pred_proba = bilstm.predict(X_val)"
   ]
  },
  {
   "cell_type": "code",
   "execution_count": 45,
   "id": "a2c41b44",
   "metadata": {},
   "outputs": [
    {
     "data": {
      "text/plain": [
       "array([[4.6338324e-04, 1.5563304e-03, 9.9798030e-01],\n",
       "       [8.7057017e-02, 4.3293560e-01, 4.8000738e-01],\n",
       "       [1.7787516e-02, 6.2293909e-02, 9.1991860e-01],\n",
       "       ...,\n",
       "       [1.0658891e-01, 1.5653360e-01, 7.3687756e-01],\n",
       "       [4.3657213e-01, 4.0323865e-01, 1.6018923e-01],\n",
       "       [4.4596791e-02, 9.3242490e-01, 2.2978345e-02]],\n",
       "      shape=(27703, 3), dtype=float32)"
      ]
     },
     "execution_count": 45,
     "metadata": {},
     "output_type": "execute_result"
    }
   ],
   "source": [
    "y_pred_proba"
   ]
  },
  {
   "cell_type": "code",
   "execution_count": 46,
   "id": "f951b2cf",
   "metadata": {},
   "outputs": [
    {
     "name": "stdout",
     "output_type": "stream",
     "text": [
      "\n",
      "First 5 samples' probabilities:\n",
      "Sample 0: [4.6338324e-04 1.5563304e-03 9.9798030e-01] → Sum: 1.000\n",
      "Sample 1: [0.08705702 0.4329356  0.48000738] → Sum: 1.000\n",
      "Sample 2: [0.01778752 0.06229391 0.9199186 ] → Sum: 1.000\n",
      "Sample 3: [0.0035964  0.00982599 0.98657763] → Sum: 1.000\n",
      "Sample 4: [0.01050567 0.11391786 0.8755765 ] → Sum: 1.000\n"
     ]
    }
   ],
   "source": [
    "print(\"\\nFirst 5 samples' probabilities:\")\n",
    "for i in range(5):\n",
    "    print(f\"Sample {i}: {y_pred_proba[i]} → Sum: {y_pred_proba[i].sum():.3f}\")"
   ]
  },
  {
   "cell_type": "code",
   "execution_count": 47,
   "id": "244c399c",
   "metadata": {},
   "outputs": [],
   "source": [
    "# Convert probabilities to class labels (0, 1, 2)\n",
    "y_pred = np.argmax(y_pred_proba, axis=1)"
   ]
  },
  {
   "cell_type": "code",
   "execution_count": 48,
   "id": "6faf9bfc",
   "metadata": {},
   "outputs": [
    {
     "data": {
      "image/png": "[encoded data removed]",
      "text/plain": [
       "<Figure size 600x500 with 2 Axes>"
      ]
     },
     "metadata": {},
     "output_type": "display_data"
    },
    {
     "name": "stdout",
     "output_type": "stream",
     "text": [
      "Confusion matrix\n",
      "              precision    recall  f1-score   support\n",
      "\n",
      "    negative       0.67      0.75      0.71      5834\n",
      "     neutral       0.43      0.56      0.49      3525\n",
      "    positive       0.91      0.82      0.87     18344\n",
      "\n",
      "    accuracy                           0.78     27703\n",
      "   macro avg       0.67      0.71      0.69     27703\n",
      "weighted avg       0.80      0.78      0.78     27703\n",
      "\n",
      "Accuracy: 77.54%\n",
      "Precision (Macro): 67.14%\n",
      "Recall (Macro): 71.22%\n",
      "F1 Score (Macro): 68.73%\n"
     ]
    }
   ],
   "source": [
    "# Create confusion matrix DataFrame for 3 classes\n",
    "rnn_cm = pd.DataFrame(data=confusion_matrix(y_val, y_pred),\n",
    "                      columns=['Negative', 'Neutral', 'Positive'],\n",
    "                      index=['Negative', 'Neutral', 'Positive'])\n",
    "\n",
    "plt.figure(figsize = (6, 5))\n",
    "plt.title('RNN Confusion Matrix')\n",
    "sns.heatmap(rnn_cm, annot=True, fmt='d', cmap=\"Reds\")\n",
    "plt.tight_layout()\n",
    "plt.xlabel('Predicted')\n",
    "plt.ylabel('True')\n",
    "plt.show()\n",
    "\n",
    "print('Confusion matrix')\n",
    "print(classification_report(y_val, y_pred, target_names=['negative', 'neutral', 'positive']))\n",
    "\n",
    "# Multi-class metrics\n",
    "print(\"Accuracy: {:.2f}%\".format(100 * accuracy_score(y_val, y_pred)))\n",
    "print(\"Precision (Macro): {:.2f}%\".format(100 * precision_score(y_val, y_pred, average='macro')))\n",
    "print(\"Recall (Macro): {:.2f}%\".format(100 * recall_score(y_val, y_pred, average='macro')))\n",
    "print(\"F1 Score (Macro): {:.2f}%\".format(100 * f1_score(y_val, y_pred, average='macro')))"
   ]
  },
  {
   "cell_type": "markdown",
   "id": "b892886e",
   "metadata": {},
   "source": []
  }
 ],
 "metadata": {
  "kernelspec": {
   "display_name": "uv_NLP_SentimentAnalysis_OnDrug",
   "language": "python",
   "name": "python3"
  },
  "language_info": {
   "codemirror_mode": {
    "name": "ipython",
    "version": 3
   },
   "file_extension": ".py",
   "mimetype": "text/x-python",
   "name": "python",
   "nbconvert_exporter": "python",
   "pygments_lexer": "ipython3",
   "version": "3.12.9"
  }
 },
 "nbformat": 4,
 "nbformat_minor": 5
}
